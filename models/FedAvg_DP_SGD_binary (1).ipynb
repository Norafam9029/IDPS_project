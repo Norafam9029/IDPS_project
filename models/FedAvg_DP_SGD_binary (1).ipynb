{
  "cells": [
    {
      "cell_type": "markdown",
      "metadata": {
        "id": "VqZ6616WlUV0"
      },
      "source": [
        "# **Installing dependencies**"
      ]
    },
    {
      "cell_type": "code",
      "execution_count": null,
      "metadata": {
        "id": "tzcfVeurk3Lz"
      },
      "outputs": [],
      "source": [
        "!pip install -q flwr[simulation] flwr_datasets[vision] torch torchvision matplotlib"
      ]
    },
    {
      "cell_type": "code",
      "execution_count": null,
      "metadata": {
        "colab": {
          "base_uri": "https://localhost:8080/"
        },
        "id": "5S45bRg10ag3",
        "outputId": "6d7e168a-eda0-443c-8b18-0e2b6b2d87ef"
      },
      "outputs": [
        {
          "output_type": "stream",
          "name": "stdout",
          "text": [
            "Requirement already satisfied: backpack-for-pytorch in /usr/local/lib/python3.10/dist-packages (1.6.0)\n",
            "Requirement already satisfied: torch>=1.9.0 in /usr/local/lib/python3.10/dist-packages (from backpack-for-pytorch) (2.2.1+cu121)\n",
            "Requirement already satisfied: torchvision>=0.7.0 in /usr/local/lib/python3.10/dist-packages (from backpack-for-pytorch) (0.17.1+cu121)\n",
            "Requirement already satisfied: einops<1.0.0,>=0.3.0 in /usr/local/lib/python3.10/dist-packages (from backpack-for-pytorch) (0.8.0)\n",
            "Requirement already satisfied: unfoldNd<1.0.0,>=0.2.0 in /usr/local/lib/python3.10/dist-packages (from backpack-for-pytorch) (0.2.1)\n",
            "Requirement already satisfied: filelock in /usr/local/lib/python3.10/dist-packages (from torch>=1.9.0->backpack-for-pytorch) (3.14.0)\n",
            "Requirement already satisfied: typing-extensions>=4.8.0 in /usr/local/lib/python3.10/dist-packages (from torch>=1.9.0->backpack-for-pytorch) (4.11.0)\n",
            "Requirement already satisfied: sympy in /usr/local/lib/python3.10/dist-packages (from torch>=1.9.0->backpack-for-pytorch) (1.12)\n",
            "Requirement already satisfied: networkx in /usr/local/lib/python3.10/dist-packages (from torch>=1.9.0->backpack-for-pytorch) (3.3)\n",
            "Requirement already satisfied: jinja2 in /usr/local/lib/python3.10/dist-packages (from torch>=1.9.0->backpack-for-pytorch) (3.1.3)\n",
            "Requirement already satisfied: fsspec in /usr/local/lib/python3.10/dist-packages (from torch>=1.9.0->backpack-for-pytorch) (2023.6.0)\n",
            "Requirement already satisfied: nvidia-cuda-nvrtc-cu12==12.1.105 in /usr/local/lib/python3.10/dist-packages (from torch>=1.9.0->backpack-for-pytorch) (12.1.105)\n",
            "Requirement already satisfied: nvidia-cuda-runtime-cu12==12.1.105 in /usr/local/lib/python3.10/dist-packages (from torch>=1.9.0->backpack-for-pytorch) (12.1.105)\n",
            "Requirement already satisfied: nvidia-cuda-cupti-cu12==12.1.105 in /usr/local/lib/python3.10/dist-packages (from torch>=1.9.0->backpack-for-pytorch) (12.1.105)\n",
            "Requirement already satisfied: nvidia-cudnn-cu12==8.9.2.26 in /usr/local/lib/python3.10/dist-packages (from torch>=1.9.0->backpack-for-pytorch) (8.9.2.26)\n",
            "Requirement already satisfied: nvidia-cublas-cu12==12.1.3.1 in /usr/local/lib/python3.10/dist-packages (from torch>=1.9.0->backpack-for-pytorch) (12.1.3.1)\n",
            "Requirement already satisfied: nvidia-cufft-cu12==11.0.2.54 in /usr/local/lib/python3.10/dist-packages (from torch>=1.9.0->backpack-for-pytorch) (11.0.2.54)\n",
            "Requirement already satisfied: nvidia-curand-cu12==10.3.2.106 in /usr/local/lib/python3.10/dist-packages (from torch>=1.9.0->backpack-for-pytorch) (10.3.2.106)\n",
            "Requirement already satisfied: nvidia-cusolver-cu12==11.4.5.107 in /usr/local/lib/python3.10/dist-packages (from torch>=1.9.0->backpack-for-pytorch) (11.4.5.107)\n",
            "Requirement already satisfied: nvidia-cusparse-cu12==12.1.0.106 in /usr/local/lib/python3.10/dist-packages (from torch>=1.9.0->backpack-for-pytorch) (12.1.0.106)\n",
            "Requirement already satisfied: nvidia-nccl-cu12==2.19.3 in /usr/local/lib/python3.10/dist-packages (from torch>=1.9.0->backpack-for-pytorch) (2.19.3)\n",
            "Requirement already satisfied: nvidia-nvtx-cu12==12.1.105 in /usr/local/lib/python3.10/dist-packages (from torch>=1.9.0->backpack-for-pytorch) (12.1.105)\n",
            "Requirement already satisfied: triton==2.2.0 in /usr/local/lib/python3.10/dist-packages (from torch>=1.9.0->backpack-for-pytorch) (2.2.0)\n",
            "Requirement already satisfied: nvidia-nvjitlink-cu12 in /usr/local/lib/python3.10/dist-packages (from nvidia-cusolver-cu12==11.4.5.107->torch>=1.9.0->backpack-for-pytorch) (12.4.127)\n",
            "Requirement already satisfied: numpy in /usr/local/lib/python3.10/dist-packages (from torchvision>=0.7.0->backpack-for-pytorch) (1.25.2)\n",
            "Requirement already satisfied: pillow!=8.3.*,>=5.3.0 in /usr/local/lib/python3.10/dist-packages (from torchvision>=0.7.0->backpack-for-pytorch) (9.4.0)\n",
            "Requirement already satisfied: MarkupSafe>=2.0 in /usr/local/lib/python3.10/dist-packages (from jinja2->torch>=1.9.0->backpack-for-pytorch) (2.1.5)\n",
            "Requirement already satisfied: mpmath>=0.19 in /usr/local/lib/python3.10/dist-packages (from sympy->torch>=1.9.0->backpack-for-pytorch) (1.3.0)\n"
          ]
        }
      ],
      "source": [
        "!pip install backpack-for-pytorch"
      ]
    },
    {
      "cell_type": "code",
      "execution_count": null,
      "metadata": {
        "colab": {
          "base_uri": "https://localhost:8080/"
        },
        "id": "q7Yh4et5lZsM",
        "outputId": "1cfee810-5920-40f3-c458-8c8c8c687a25"
      },
      "outputs": [
        {
          "output_type": "stream",
          "name": "stdout",
          "text": [
            "Training on cpu using PyTorch 2.2.1+cu121 and Flower 1.8.0\n"
          ]
        }
      ],
      "source": [
        "from collections import OrderedDict\n",
        "from typing import List, Tuple\n",
        "\n",
        "import matplotlib.pyplot as plt\n",
        "import numpy as np\n",
        "import pandas as pd\n",
        "import torch\n",
        "import torch.nn as nn\n",
        "import torch.nn.functional as F\n",
        "import torchvision.transforms as transforms\n",
        "from datasets.utils.logging import disable_progress_bar\n",
        "from torch.utils.data import Dataset, DataLoader\n",
        "from torch.optim import Optimizer\n",
        "\n",
        "from backpack import backpack,extend\n",
        "from backpack.extensions import BatchGrad, BatchL2Grad\n",
        "#from backpack.utils.examples import get_mnist_dataloader\n",
        "\n",
        "import flwr as fl\n",
        "from flwr.common import Metrics\n",
        "from flwr_datasets import FederatedDataset\n",
        "\n",
        "DEVICE = torch.device(\"cpu\")  # Try \"cuda\" to train on GPU\n",
        "print(\n",
        "    f\"Training on {DEVICE} using PyTorch {torch.__version__} and Flower {fl.__version__}\"\n",
        ")\n",
        "disable_progress_bar()"
      ]
    },
    {
      "cell_type": "code",
      "execution_count": null,
      "metadata": {
        "colab": {
          "base_uri": "https://localhost:8080/"
        },
        "id": "Y6-c2W7coMSJ",
        "outputId": "8393f3f3-519e-42c1-d37d-0323dbb4b4d1"
      },
      "outputs": [
        {
          "output_type": "stream",
          "name": "stderr",
          "text": [
            "/usr/local/lib/python3.10/dist-packages/ipykernel/ipkernel.py:283: DeprecationWarning: `should_run_async` will not call `transform_cell` automatically in the future. Please pass the result to `transformed_cell` argument and any exception that happen during thetransform in `preprocessing_exc_tuple` in IPython 7.17 and above.\n",
            "  and should_run_async(code)\n"
          ]
        },
        {
          "output_type": "stream",
          "name": "stdout",
          "text": [
            "Drive already mounted at /content/drive; to attempt to forcibly remount, call drive.mount(\"/content/drive\", force_remount=True).\n"
          ]
        }
      ],
      "source": [
        "from google.colab import drive\n",
        "drive.mount('/content/drive')"
      ]
    },
    {
      "cell_type": "markdown",
      "metadata": {
        "id": "42WaStD5l-qV"
      },
      "source": [
        "# **Loading the data**"
      ]
    },
    {
      "cell_type": "code",
      "execution_count": null,
      "metadata": {
        "id": "dOv1ddW5mBz1"
      },
      "outputs": [],
      "source": [
        "import ipaddress\n",
        "from sklearn.preprocessing import LabelEncoder\n",
        "from sklearn.preprocessing import StandardScaler\n",
        "\n",
        "NUM_CLIENTS = 50\n",
        "BATCH_SIZE = 32\n",
        "\n",
        "class CustomDataset(Dataset):\n",
        "    def __init__(self, csv_file):\n",
        "        self.data = pd.read_csv(csv_file)\n",
        "        self.features = self.data.drop(columns=[\"Label\",\"Attack\"])\n",
        "        self.labels = self.data[\"Label\"]\n",
        "\n",
        "        # Convert object columns to appropriate types\n",
        "        self.features['IPV4_SRC_ADDR'] = self.features['IPV4_SRC_ADDR'].apply(lambda x: int(ipaddress.IPv4Address(x)))\n",
        "        self.features['IPV4_DST_ADDR'] = self.features['IPV4_DST_ADDR'].apply(lambda x: int(ipaddress.IPv4Address(x)))\n",
        "\n",
        "        # Perform label encoding on the labels column\n",
        "        label_encoder = LabelEncoder()\n",
        "        self.labels = label_encoder.fit_transform(self.labels)\n",
        "\n",
        "        #Scaler\n",
        "        scaler = StandardScaler()\n",
        "        self.features = scaler.fit_transform(self.features)\n",
        "\n",
        "    def __len__(self):\n",
        "        return len(self.data)\n",
        "\n",
        "    def __getitem__(self, idx):\n",
        "        if isinstance(idx, (int, np.integer)):\n",
        "            features = torch.tensor(self.features.iloc[idx].values, dtype=torch.float32).squeeze(1)\n",
        "            label = torch.tensor(self.labels[idx], dtype=torch.long)\n",
        "            return {\"fts\": features, \"label\": label}\n",
        "        elif isinstance(idx, slice):\n",
        "            start = idx.start if idx.start is not None else 0\n",
        "            stop = idx.stop if idx.stop is not None else len(self.data)\n",
        "            step = idx.step if idx.step is not None else 1\n",
        "            features = self.features[start:stop:step]\n",
        "            labels = self.labels[start:stop:step]\n",
        "            return [{\"fts\": torch.tensor(f, dtype=torch.float32), \"label\": torch.tensor(l, dtype=torch.long)}\n",
        "                    for f, l in zip(features, labels)]\n",
        "        else:\n",
        "            raise IndexError(\"Invalid index type. Only integer and slice indices are supported.\")\n",
        "\n",
        "\n",
        "\n",
        "def load_datasets():\n",
        "    # Load the entire dataset\n",
        "    dataset = CustomDataset(csv_file=\"/content/drive/MyDrive/Colab Notebooks/data/NF-ToN-IoT-v2/NF-ToN-IoT-v2-reduced(200k).csv\")\n",
        "\n",
        "    # Divide the dataset into partitions for each client\n",
        "    num_samples = len(dataset)\n",
        "    samples_per_client = num_samples // NUM_CLIENTS\n",
        "    trainloaders = []\n",
        "    valloaders = []\n",
        "    for client_id in range(NUM_CLIENTS):\n",
        "        start_idx = client_id * samples_per_client\n",
        "        end_idx = start_idx + samples_per_client\n",
        "\n",
        "        # Create a subset of the dataset for each client\n",
        "        client_dataset = dataset[start_idx:end_idx]\n",
        "\n",
        "        # Split the client dataset into train and validation sets\n",
        "        train_size = int(0.8 * len(client_dataset))\n",
        "        train_dataset, val_dataset = torch.utils.data.random_split(client_dataset,\n",
        "                                                                   [train_size, len(client_dataset) - train_size])\n",
        "\n",
        "        # Create DataLoader objects for train and validation sets\n",
        "        trainloader = DataLoader(train_dataset, batch_size=BATCH_SIZE, shuffle=True)\n",
        "        valloader = DataLoader(val_dataset, batch_size=BATCH_SIZE, shuffle=True)\n",
        "\n",
        "        trainloaders.append(trainloader)\n",
        "        valloaders.append(valloader)\n",
        "\n",
        "    # Create DataLoader object for the test set\n",
        "    test_dataset = dataset[len(dataset) - samples_per_client:]\n",
        "    testloader = DataLoader(test_dataset, batch_size=BATCH_SIZE, shuffle=True)\n",
        "\n",
        "    return trainloaders, valloaders, testloader\n",
        "\n",
        "\n",
        "trainloaders, valloaders, testloader = load_datasets()"
      ]
    },
    {
      "cell_type": "code",
      "execution_count": null,
      "metadata": {
        "colab": {
          "base_uri": "https://localhost:8080/"
        },
        "id": "U8INXMGzkEBC",
        "outputId": "6c4672aa-898e-4fcf-a160-041a98487344"
      },
      "outputs": [
        {
          "output_type": "stream",
          "name": "stderr",
          "text": [
            "/usr/local/lib/python3.10/dist-packages/ipykernel/ipkernel.py:283: DeprecationWarning: `should_run_async` will not call `transform_cell` automatically in the future. Please pass the result to `transformed_cell` argument and any exception that happen during thetransform in `preprocessing_exc_tuple` in IPython 7.17 and above.\n",
            "  and should_run_async(code)\n"
          ]
        },
        {
          "output_type": "execute_result",
          "data": {
            "text/plain": [
              "{'fts': tensor([[ 0.0594,  0.1147,  0.1719,  ..., -0.1789, -0.0873, -0.0575],\n",
              "         [ 0.0594, -0.6548,  0.1719,  ..., -0.1789, -0.0873, -0.0575],\n",
              "         [ 0.0594,  1.3442,  0.1719,  ..., -0.1789, -0.0873, -0.0575],\n",
              "         ...,\n",
              "         [ 0.0594,  0.5839,  0.1719,  ..., -0.1789, -0.0873, -0.0575],\n",
              "         [ 0.0594,  0.4032,  0.1719,  ..., -0.0634, -0.0858, -0.0575],\n",
              "         [ 0.0594,  1.4119,  0.1719,  ..., -0.1789, -0.0873, -0.0575]]),\n",
              " 'label': tensor([1, 0, 1, 1, 1, 1, 1, 1, 1, 1, 0, 1, 1, 0, 0, 0, 1, 0, 1, 1, 1, 1, 1, 1,\n",
              "         0, 1, 1, 0, 0, 1, 1, 1])}"
            ]
          },
          "metadata": {},
          "execution_count": 6
        }
      ],
      "source": [
        "batch = next(iter(trainloaders[0]))\n",
        "batch"
      ]
    },
    {
      "cell_type": "code",
      "execution_count": null,
      "metadata": {
        "colab": {
          "base_uri": "https://localhost:8080/"
        },
        "id": "ZyZfV1NvqcfK",
        "outputId": "f39ba1bb-492c-4462-c4a8-820bc145bd0e"
      },
      "outputs": [
        {
          "output_type": "stream",
          "name": "stdout",
          "text": [
            "torch.Size([32, 43])\n",
            "torch.Size([32])\n"
          ]
        }
      ],
      "source": [
        "batch = next(iter(trainloaders[0]))\n",
        "features, labels = batch[\"fts\"], batch[\"label\"]\n",
        "print(features.shape)\n",
        "print(labels.shape)"
      ]
    },
    {
      "cell_type": "code",
      "execution_count": null,
      "metadata": {
        "colab": {
          "base_uri": "https://localhost:8080/",
          "height": 243
        },
        "id": "lqrXFb-AmGbk",
        "outputId": "849d0ab5-d00f-4327-9797-8d762c8ce8d8"
      },
      "outputs": [
        {
          "output_type": "display_data",
          "data": {
            "text/plain": [
              "<Figure size 1200x600 with 32 Axes>"
            ],
            "image/png": "[encoded data removed]"
          },
          "metadata": {}
        }
      ],
      "source": [
        "batch = next(iter(trainloaders[0]))\n",
        "features, labels = batch[\"fts\"], batch[\"label\"]\n",
        "\n",
        "# Example code to visualize the data\n",
        "fig, axs = plt.subplots(4, 8, figsize=(12, 6))\n",
        "for i, ax in enumerate(axs.flat):\n",
        "    ax.imshow(features[i].reshape(1, -1))\n",
        "    ax.set_title(\"Label: \" + str(labels[i].item()))\n",
        "    ax.axis(\"off\")\n",
        "\n",
        "plt.tight_layout()\n",
        "plt.show()"
      ]
    },
    {
      "cell_type": "markdown",
      "metadata": {
        "id": "MaXPsQoGmISE"
      },
      "source": [
        "# **Centralized Training with PyTorch**"
      ]
    },
    {
      "cell_type": "markdown",
      "metadata": {
        "id": "JsEF5NTFmM17"
      },
      "source": [
        "### Defining the model"
      ]
    },
    {
      "cell_type": "code",
      "execution_count": null,
      "metadata": {
        "id": "iR1Sc31SmMCD"
      },
      "outputs": [],
      "source": [
        "class Net(nn.Module):\n",
        "    def __init__(self):\n",
        "        super(Net, self).__init__()\n",
        "        self.fc1 = nn.Linear(43, 120)\n",
        "        self.fc2 = nn.Linear(120, 160)\n",
        "        self.fc3 = nn.Linear(160, 2)\n",
        "\n",
        "    def forward(self, x):\n",
        "        x = F.relu(self.fc1(x))\n",
        "        x = F.relu(self.fc2(x))\n",
        "        x = self.fc3(x)\n",
        "        return x\n",
        "\n"
      ]
    },
    {
      "cell_type": "code",
      "execution_count": null,
      "metadata": {
        "id": "3bhl6B0cjWUa"
      },
      "outputs": [],
      "source": [
        "def make_broadcastable(v, X):\n",
        "    \"\"\"Returns a view of `v` that can be broadcast with `X`.\n",
        "\n",
        "    If `v` is a one-dimensional tensor [N] and `X` is a tensor of shape\n",
        "    `[N, ..., ]`, returns a view of v with singleton dimensions appended.\n",
        "\n",
        "    Example:\n",
        "        `v` is a tensor of shape `[10]` and `X` is a tensor of shape `[10, 3, 3]`.\n",
        "        We want to multiply each `[3, 3]` element of `X` by the corresponding\n",
        "        element of `v` to get a matrix `Y` of shape `[10, 3, 3]` such that\n",
        "        `Y[i, a, b] = v[i] * X[i, a, b]`.\n",
        "\n",
        "        `w = make_broadcastable(v, X)` gives a `w` of shape `[10, 1, 1]`,\n",
        "        and we can now broadcast `Y = w * X`.\n",
        "    \"\"\"\n",
        "    broadcasting_shape = (-1, *[1 for _ in X.shape[1:]])\n",
        "    return v.reshape(broadcasting_shape)"
      ]
    },
    {
      "cell_type": "code",
      "execution_count": null,
      "metadata": {
        "id": "BzMQTOeZv3SE"
      },
      "outputs": [],
      "source": [
        "# Define the DP-SGD optimizer\n",
        "class DP_SGD(Optimizer):\n",
        "    def __init__(self, params, lr=0.1, max_norm=0.01, stddev=2.0):\n",
        "        self.lr = lr\n",
        "        self.max_norm = max_norm\n",
        "        self.stddev = stddev\n",
        "        super().__init__(params, dict())\n",
        "\n",
        "    def step(self):\n",
        "        l2_norms_all_params_list = []\n",
        "        for group in self.param_groups:\n",
        "            for p in group[\"params\"]:\n",
        "                l2_norms_all_params_list.append(p.batch_l2)\n",
        "\n",
        "        l2_norms_all_params = torch.stack(l2_norms_all_params_list)\n",
        "        total_norms = torch.sqrt(torch.sum(l2_norms_all_params, dim=0))\n",
        "        scaling_factors = torch.clamp_max(total_norms / self.max_norm, 1.0)\n",
        "\n",
        "        for group in self.param_groups:\n",
        "            for p in group[\"params\"]:\n",
        "                clipped_grads = p.grad_batch * make_broadcastable(\n",
        "                    scaling_factors, p.grad_batch\n",
        "                )\n",
        "                clipped_grad = torch.sum(clipped_grads, dim=0)\n",
        "\n",
        "                noise_magnitude = self.stddev * self.max_norm\n",
        "                noise = torch.randn_like(clipped_grad) * noise_magnitude\n",
        "\n",
        "                perturbed_update = clipped_grad + noise\n",
        "\n",
        "                p.data.add_(-self.lr * perturbed_update)"
      ]
    },
    {
      "cell_type": "code",
      "execution_count": null,
      "metadata": {
        "id": "JSJi0F7KmXJr"
      },
      "outputs": [],
      "source": [
        "from sklearn.metrics import classification_report\n",
        "\n",
        "def train(net, trainloader, epochs: int, verbose=False):\n",
        "    \"\"\"Train the network on the training set.\"\"\"\n",
        "    criterion = torch.nn.CrossEntropyLoss()\n",
        "    optimizer = DP_SGD(net.parameters(), lr=0.02, max_norm=1.5, stddev=0.5)\n",
        "    net.train()\n",
        "    for epoch in range(epochs):\n",
        "        correct, total, epoch_loss = 0, 0, 0.0\n",
        "        for batch in trainloader:\n",
        "            fts, labels = batch[\"fts\"].to(DEVICE), batch[\"label\"].to(DEVICE)\n",
        "            optimizer.zero_grad()\n",
        "            outputs = net(fts)\n",
        "            loss = criterion(outputs, labels)\n",
        "            with backpack(BatchL2Grad(), BatchGrad()):\n",
        "                loss.backward()\n",
        "            optimizer.step()\n",
        "            # Metrics\n",
        "            epoch_loss += loss\n",
        "            total += labels.size(0)\n",
        "            correct += (torch.max(outputs.data, 1)[1] == labels).sum().item()\n",
        "        epoch_loss /= len(trainloader.dataset)\n",
        "        epoch_acc = correct / total\n",
        "        if verbose:\n",
        "            print(f\"Epoch {epoch+1}: train loss {epoch_loss}, accuracy {epoch_acc}\")\n",
        "\n",
        "\n",
        "def test(net, testloader):\n",
        "    \"\"\"Evaluate the network on the entire test set.\"\"\"\n",
        "    criterion = torch.nn.CrossEntropyLoss()\n",
        "    correct, total, loss = 0, 0, 0.0\n",
        "    net.eval()\n",
        "    y_true = []\n",
        "    y_pred = []\n",
        "    with torch.no_grad():\n",
        "        for batch in testloader:\n",
        "            fts, labels = batch[\"fts\"].to(DEVICE), batch[\"label\"].to(DEVICE)\n",
        "            outputs = net(fts)\n",
        "            loss += criterion(outputs, labels).item()\n",
        "            _, predicted = torch.max(outputs.data, 1)\n",
        "            total += labels.size(0)\n",
        "            correct += (predicted == labels).sum().item()\n",
        "\n",
        "            y_true.extend(labels.cpu().numpy())\n",
        "            y_pred.extend(predicted.cpu().numpy())\n",
        "\n",
        "    loss /= len(testloader.dataset)\n",
        "    accuracy = correct / total\n",
        "\n",
        "    # Compute precision, recall, f1-score\n",
        "    report = classification_report(y_true, y_pred, output_dict=True)\n",
        "    precision = report[\"weighted avg\"][\"precision\"]\n",
        "    recall = report[\"weighted avg\"][\"recall\"]\n",
        "    f1_score = report[\"weighted avg\"][\"f1-score\"]\n",
        "\n",
        "    return loss, accuracy, precision, recall, f1_score\n",
        "\n"
      ]
    },
    {
      "cell_type": "markdown",
      "metadata": {
        "id": "lNBzEbX0mZ9D"
      },
      "source": [
        "### Training the model"
      ]
    },
    {
      "cell_type": "code",
      "execution_count": null,
      "metadata": {
        "colab": {
          "base_uri": "https://localhost:8080/"
        },
        "id": "bU0ZKV_fmbDc",
        "outputId": "867710f3-3c31-4f05-dabc-493dc73ffaf7"
      },
      "outputs": [
        {
          "output_type": "stream",
          "name": "stderr",
          "text": [
            "/usr/local/lib/python3.10/dist-packages/backpack/extensions/backprop_extension.py:106: UserWarning: Extension saving to batch_l2 does not have an extension for Module <class '__main__.Net'> although the module has parameters\n",
            "  warnings.warn(\n",
            "/usr/local/lib/python3.10/dist-packages/backpack/extensions/backprop_extension.py:106: UserWarning: Extension saving to grad_batch does not have an extension for Module <class '__main__.Net'> although the module has parameters\n",
            "  warnings.warn(\n"
          ]
        },
        {
          "output_type": "stream",
          "name": "stdout",
          "text": [
            "Epoch 1: validation loss 0.01938723622633608, accuracy 0.6470588235294118, precision 0.6579566400080713, recall 0.6470588235294118, f1-score 0.6513688776243004\n"
          ]
        },
        {
          "output_type": "stream",
          "name": "stderr",
          "text": [
            "/usr/local/lib/python3.10/dist-packages/backpack/extensions/backprop_extension.py:106: UserWarning: Extension saving to batch_l2 does not have an extension for Module <class '__main__.Net'> although the module has parameters\n",
            "  warnings.warn(\n",
            "/usr/local/lib/python3.10/dist-packages/backpack/extensions/backprop_extension.py:106: UserWarning: Extension saving to grad_batch does not have an extension for Module <class '__main__.Net'> although the module has parameters\n",
            "  warnings.warn(\n"
          ]
        },
        {
          "output_type": "stream",
          "name": "stdout",
          "text": [
            "Epoch 2: validation loss 0.017389282416342494, accuracy 0.7909887359198998, precision 0.797581258447354, recall 0.7909887359198998, f1-score 0.7932250206483872\n"
          ]
        },
        {
          "output_type": "stream",
          "name": "stderr",
          "text": [
            "/usr/local/lib/python3.10/dist-packages/backpack/extensions/backprop_extension.py:106: UserWarning: Extension saving to batch_l2 does not have an extension for Module <class '__main__.Net'> although the module has parameters\n",
            "  warnings.warn(\n",
            "/usr/local/lib/python3.10/dist-packages/backpack/extensions/backprop_extension.py:106: UserWarning: Extension saving to grad_batch does not have an extension for Module <class '__main__.Net'> although the module has parameters\n",
            "  warnings.warn(\n"
          ]
        },
        {
          "output_type": "stream",
          "name": "stdout",
          "text": [
            "Epoch 3: validation loss 0.015981815969839563, accuracy 0.7509386733416771, precision 0.7437636322019947, recall 0.7509386733416771, f1-score 0.738472868126964\n"
          ]
        },
        {
          "output_type": "stream",
          "name": "stderr",
          "text": [
            "/usr/local/lib/python3.10/dist-packages/backpack/extensions/backprop_extension.py:106: UserWarning: Extension saving to batch_l2 does not have an extension for Module <class '__main__.Net'> although the module has parameters\n",
            "  warnings.warn(\n",
            "/usr/local/lib/python3.10/dist-packages/backpack/extensions/backprop_extension.py:106: UserWarning: Extension saving to grad_batch does not have an extension for Module <class '__main__.Net'> although the module has parameters\n",
            "  warnings.warn(\n"
          ]
        },
        {
          "output_type": "stream",
          "name": "stdout",
          "text": [
            "Epoch 4: validation loss 0.013659155935757748, accuracy 0.7922403003754693, precision 0.8277919412235168, recall 0.7922403003754693, f1-score 0.7972174390356161\n"
          ]
        },
        {
          "output_type": "stream",
          "name": "stderr",
          "text": [
            "/usr/local/lib/python3.10/dist-packages/backpack/extensions/backprop_extension.py:106: UserWarning: Extension saving to batch_l2 does not have an extension for Module <class '__main__.Net'> although the module has parameters\n",
            "  warnings.warn(\n",
            "/usr/local/lib/python3.10/dist-packages/backpack/extensions/backprop_extension.py:106: UserWarning: Extension saving to grad_batch does not have an extension for Module <class '__main__.Net'> although the module has parameters\n",
            "  warnings.warn(\n"
          ]
        },
        {
          "output_type": "stream",
          "name": "stdout",
          "text": [
            "Epoch 5: validation loss 0.05067724138684804, accuracy 0.6921151439299124, precision 0.8155664384765502, recall 0.6921151439299124, f1-score 0.6944056034052848\n"
          ]
        },
        {
          "output_type": "stream",
          "name": "stderr",
          "text": [
            "/usr/local/lib/python3.10/dist-packages/backpack/extensions/backprop_extension.py:106: UserWarning: Extension saving to batch_l2 does not have an extension for Module <class '__main__.Net'> although the module has parameters\n",
            "  warnings.warn(\n",
            "/usr/local/lib/python3.10/dist-packages/backpack/extensions/backprop_extension.py:106: UserWarning: Extension saving to grad_batch does not have an extension for Module <class '__main__.Net'> although the module has parameters\n",
            "  warnings.warn(\n"
          ]
        },
        {
          "output_type": "stream",
          "name": "stdout",
          "text": [
            "Epoch 6: validation loss 0.027439253313818922, accuracy 0.6332916145181476, precision 0.6954767989084085, recall 0.6332916145181476, f1-score 0.6417403295319273\n"
          ]
        },
        {
          "output_type": "stream",
          "name": "stderr",
          "text": [
            "/usr/local/lib/python3.10/dist-packages/backpack/extensions/backprop_extension.py:106: UserWarning: Extension saving to batch_l2 does not have an extension for Module <class '__main__.Net'> although the module has parameters\n",
            "  warnings.warn(\n",
            "/usr/local/lib/python3.10/dist-packages/backpack/extensions/backprop_extension.py:106: UserWarning: Extension saving to grad_batch does not have an extension for Module <class '__main__.Net'> although the module has parameters\n",
            "  warnings.warn(\n"
          ]
        },
        {
          "output_type": "stream",
          "name": "stdout",
          "text": [
            "Epoch 7: validation loss 0.021087192334654333, accuracy 0.8285356695869838, precision 0.8675061155008915, recall 0.8285356695869838, f1-score 0.8326999342325315\n"
          ]
        },
        {
          "output_type": "stream",
          "name": "stderr",
          "text": [
            "/usr/local/lib/python3.10/dist-packages/backpack/extensions/backprop_extension.py:106: UserWarning: Extension saving to batch_l2 does not have an extension for Module <class '__main__.Net'> although the module has parameters\n",
            "  warnings.warn(\n",
            "/usr/local/lib/python3.10/dist-packages/backpack/extensions/backprop_extension.py:106: UserWarning: Extension saving to grad_batch does not have an extension for Module <class '__main__.Net'> although the module has parameters\n",
            "  warnings.warn(\n"
          ]
        },
        {
          "output_type": "stream",
          "name": "stdout",
          "text": [
            "Epoch 8: validation loss 0.009740000555713722, accuracy 0.932415519399249, precision 0.9325427168804761, recall 0.932415519399249, f1-score 0.9324727769540134\n"
          ]
        },
        {
          "output_type": "stream",
          "name": "stderr",
          "text": [
            "/usr/local/lib/python3.10/dist-packages/backpack/extensions/backprop_extension.py:106: UserWarning: Extension saving to batch_l2 does not have an extension for Module <class '__main__.Net'> although the module has parameters\n",
            "  warnings.warn(\n",
            "/usr/local/lib/python3.10/dist-packages/backpack/extensions/backprop_extension.py:106: UserWarning: Extension saving to grad_batch does not have an extension for Module <class '__main__.Net'> although the module has parameters\n",
            "  warnings.warn(\n"
          ]
        },
        {
          "output_type": "stream",
          "name": "stdout",
          "text": [
            "Epoch 9: validation loss 0.013750450119133735, accuracy 0.9148936170212766, precision 0.9146738270052766, recall 0.9148936170212766, f1-score 0.9140038219988963\n"
          ]
        },
        {
          "output_type": "stream",
          "name": "stderr",
          "text": [
            "/usr/local/lib/python3.10/dist-packages/backpack/extensions/backprop_extension.py:106: UserWarning: Extension saving to batch_l2 does not have an extension for Module <class '__main__.Net'> although the module has parameters\n",
            "  warnings.warn(\n",
            "/usr/local/lib/python3.10/dist-packages/backpack/extensions/backprop_extension.py:106: UserWarning: Extension saving to grad_batch does not have an extension for Module <class '__main__.Net'> although the module has parameters\n",
            "  warnings.warn(\n"
          ]
        },
        {
          "output_type": "stream",
          "name": "stdout",
          "text": [
            "Epoch 10: validation loss 0.014310904229537716, accuracy 0.9098873591989988, precision 0.9095231673492306, recall 0.9098873591989988, f1-score 0.9096492100104029\n",
            "Final test set performance:\n",
            "\tloss 0.018426159102813096\n",
            "\taccuracy 0.9085671342685371\n",
            "\tprecision 0.9085549971981713\n",
            "\trecall 0.9085671342685371\n",
            "\tf1-score 0.9085610057087073\n"
          ]
        }
      ],
      "source": [
        "trainloader = trainloaders[0]\n",
        "valloader = valloaders[0]\n",
        "net = Net().to(DEVICE)\n",
        "net = extend(net)\n",
        "\n",
        "for epoch in range(10):\n",
        "    train(net, trainloader, 1)\n",
        "    loss, accuracy, precision, recall, f1_score = test(net, valloader)\n",
        "    print(f\"Epoch {epoch+1}: validation loss {loss}, accuracy {accuracy}, precision {precision}, recall {recall}, f1-score {f1_score}\")\n",
        "\n",
        "loss, accuracy, precision, recall, f1_score = test(net, testloader)\n",
        "print(f\"Final test set performance:\\n\\tloss {loss}\\n\\taccuracy {accuracy}\\n\\tprecision {precision}\\n\\trecall {recall}\\n\\tf1-score {f1_score}\")"
      ]
    },
    {
      "cell_type": "markdown",
      "metadata": {
        "id": "VhsDQfPvmd7N"
      },
      "source": [
        "# **Federated Learning with Flower**"
      ]
    },
    {
      "cell_type": "markdown",
      "metadata": {
        "id": "SLyLY2-qmj47"
      },
      "source": [
        "### Updating model parameters"
      ]
    },
    {
      "cell_type": "code",
      "execution_count": null,
      "metadata": {
        "colab": {
          "base_uri": "https://localhost:8080/"
        },
        "id": "DRE1iaN2mg7m",
        "outputId": "dbb47984-ecf9-4ecd-9839-bfd2414f37d9"
      },
      "outputs": [
        {
          "output_type": "stream",
          "name": "stderr",
          "text": [
            "/usr/local/lib/python3.10/dist-packages/ipykernel/ipkernel.py:283: DeprecationWarning: `should_run_async` will not call `transform_cell` automatically in the future. Please pass the result to `transformed_cell` argument and any exception that happen during thetransform in `preprocessing_exc_tuple` in IPython 7.17 and above.\n",
            "  and should_run_async(code)\n"
          ]
        }
      ],
      "source": [
        "def set_parameters(net, parameters: List[np.ndarray]):\n",
        "    params_dict = zip(net.state_dict().keys(), parameters)\n",
        "    state_dict = OrderedDict({k: torch.Tensor(v) for k, v in params_dict})\n",
        "    net.load_state_dict(state_dict, strict=True)\n",
        "\n",
        "\n",
        "def get_parameters(net) -> List[np.ndarray]:\n",
        "    return [val.cpu().numpy() for _, val in net.state_dict().items()]"
      ]
    },
    {
      "cell_type": "markdown",
      "metadata": {
        "id": "OGUNwNlqmm0u"
      },
      "source": [
        "### Implementing a Flower client"
      ]
    },
    {
      "cell_type": "code",
      "execution_count": null,
      "metadata": {
        "id": "pHv9Jqxsmo4O"
      },
      "outputs": [],
      "source": [
        "class FlowerClient(fl.client.NumPyClient):\n",
        "    def __init__(self, net, trainloader, valloader):\n",
        "        self.net = extend(net)\n",
        "        self.trainloader = trainloader\n",
        "        self.valloader = valloader\n",
        "\n",
        "    def get_parameters(self, config):\n",
        "        return get_parameters(self.net)\n",
        "\n",
        "    def fit(self, parameters, config):\n",
        "        set_parameters(self.net, parameters)\n",
        "        train(self.net, self.trainloader, epochs=1)\n",
        "        return get_parameters(self.net), len(self.trainloader), {}\n",
        "\n",
        "    def evaluate(self, parameters, config):\n",
        "        set_parameters(self.net, parameters)\n",
        "        loss, accuracy, precision, recall, f1_score = test(self.net, self.valloader)\n",
        "        metrics = {\n",
        "            \"accuracy\": float(accuracy),\n",
        "            \"precision\": float(precision),\n",
        "            \"recall\": float(recall),\n",
        "            \"f1-score\": float(f1_score)\n",
        "        }\n",
        "        with open(\"/content/drive/MyDrive/Colab Notebooks/data/NF-ToN-IoT-v2/fedavg-dp-sgd-binary-result.txt\", \"a\") as f:\n",
        "            f.write(f\"accuracy : {metrics['accuracy']}, precision : {metrics['precision']}, recall : {metrics['recall']}, F1-score : {metrics['f1-score']}\\n\")\n",
        "\n",
        "\n",
        "        return float(loss), len(self.valloader), {\"accuracy\": metrics[\"accuracy\"]}"
      ]
    },
    {
      "cell_type": "markdown",
      "metadata": {
        "id": "O3Z7lojZmtT4"
      },
      "source": [
        "### Using the Virtual Client Engine"
      ]
    },
    {
      "cell_type": "code",
      "execution_count": null,
      "metadata": {
        "id": "KY_t_024mrme"
      },
      "outputs": [],
      "source": [
        "def client_fn(cid: str) -> FlowerClient:\n",
        "    # Load model\n",
        "    net = Net().to(DEVICE)\n",
        "\n",
        "    # Load data (You need to replace this part with your own data loading logic)\n",
        "    trainloader = trainloaders[int(cid)]\n",
        "    valloader = valloaders[int(cid)]\n",
        "\n",
        "    # Create a single Flower client representing a single organization\n",
        "    return FlowerClient(net, trainloader, valloader).to_client()"
      ]
    },
    {
      "cell_type": "markdown",
      "metadata": {
        "id": "57rnmKJumwEv"
      },
      "source": [
        "### Starting the training"
      ]
    },
    {
      "cell_type": "code",
      "execution_count": null,
      "metadata": {
        "id": "C6seGlG2myl-"
      },
      "outputs": [],
      "source": [
        "# # Create FedAvg strategy\n",
        "# strategy = fl.server.strategy.FedAvg(\n",
        "#     fraction_fit=1.0,  # Sample 100% of available clients for training\n",
        "#     fraction_evaluate=0.5,  # Sample 50% of available clients for evaluation\n",
        "#     min_fit_clients=10,  # Never sample less than 10 clients for training\n",
        "#     min_evaluate_clients=5,  # Never sample less than 5 clients for evaluation\n",
        "#     min_available_clients=10,  # Wait until all 10 clients are available\n",
        "# )\n",
        "\n",
        "# # Specify the resources each of your clients need. By default, each\n",
        "# # client will be allocated 1x CPU and 0x GPUs\n",
        "# client_resources = {\"num_cpus\": 1, \"num_gpus\": 0.0}\n",
        "# if DEVICE.type == \"cuda\":\n",
        "#     # here we are assigning an entire GPU for each client.\n",
        "#     client_resources = {\"num_cpus\": 1, \"num_gpus\": 1.0}\n",
        "#     # Refer to our documentation for more details about Flower Simulations\n",
        "#     # and how to setup these `client_resources`.\n",
        "\n",
        "# # Start simulation\n",
        "# fl.simulation.start_simulation(\n",
        "#     client_fn=client_fn,\n",
        "#     num_clients=NUM_CLIENTS,\n",
        "#     config=fl.server.ServerConfig(num_rounds=5),\n",
        "#     strategy=strategy,\n",
        "#     client_resources=client_resources,\n",
        "# )"
      ]
    },
    {
      "cell_type": "markdown",
      "metadata": {
        "id": "UX-tyr_6m1O6"
      },
      "source": [
        "### Evaluate"
      ]
    },
    {
      "cell_type": "code",
      "execution_count": null,
      "metadata": {
        "id": "c7RQd1BOm4XD"
      },
      "outputs": [],
      "source": [
        "def weighted_average(metrics: List[Tuple[int, Metrics]]) -> Metrics:\n",
        "    # Multiply accuracy, precision, recall, and f1-score of each client by number of examples used\n",
        "    accuracies = [num_examples * m[\"accuracy\"] for num_examples, m in metrics]\n",
        "    precisions = [num_examples * m[\"precision\"] for num_examples, m in metrics]\n",
        "    recalls = [num_examples * m[\"recall\"] for num_examples, m in metrics]\n",
        "    f1_scores = [num_examples * m[\"f1-score\"] for num_examples, m in metrics]\n",
        "\n",
        "    examples = [num_examples for num_examples, _ in metrics]\n",
        "\n",
        "    # Aggregate and return custom metrics (weighted average)\n",
        "    weighted_avg = {\n",
        "        \"accuracy\": sum(accuracies) / sum(examples),\n",
        "        \"precision\": sum(precisions) / sum(examples),\n",
        "        \"recall\": sum(recalls) / sum(examples),\n",
        "        \"f1-score\": sum(f1_scores) / sum(examples)\n",
        "    }\n",
        "    # with open(\"/content/drive/MyDrive/Colab Notebooks/data/NF-ToN-IoT-v2/fedavg-multiclass-result.txt\", \"a\") as f:\n",
        "    #     f.write(f\"accuracy : {weighted_avg['accuracy']}, precision : {weighted_avg['precision']}, recall : {weighted_avg['recall']}, F1-score : {weighted_avg['f1-score']}\\n\")\n",
        "\n",
        "    # Return the aggregated metrics\n",
        "    return {\"metrics\": weighted_avg}"
      ]
    },
    {
      "cell_type": "code",
      "source": [
        "from logging import WARNING\n",
        "from typing import Callable, Dict, List, Optional, Tuple, Union\n",
        "\n",
        "from flwr.common import (\n",
        "    EvaluateIns,\n",
        "    EvaluateRes,\n",
        "    FitIns,\n",
        "    FitRes,\n",
        "    MetricsAggregationFn,\n",
        "    NDArrays,\n",
        "    Parameters,\n",
        "    Scalar,\n",
        "    ndarrays_to_parameters,\n",
        "    parameters_to_ndarrays,\n",
        ")\n",
        "from flwr.common.logger import log\n",
        "from flwr.server.client_manager import ClientManager\n",
        "from flwr.server.client_proxy import ClientProxy\n",
        "\n",
        "from flwr.server.strategy.aggregate import aggregate, aggregate_inplace, weighted_loss_avg\n",
        "from flwr.server.strategy import Strategy\n",
        "\n",
        "WARNING_MIN_AVAILABLE_CLIENTS_TOO_LOW = \"\"\"\n",
        "Setting `min_available_clients` lower than `min_fit_clients` or\n",
        "`min_evaluate_clients` can cause the server to fail when there are too few clients\n",
        "connected to the server. `min_available_clients` must be set to a value larger\n",
        "than or equal to the values of `min_fit_clients` and `min_evaluate_clients`.\n",
        "\"\"\"\n",
        "\n",
        "\n",
        "# pylint: disable=line-too-long\n",
        "class FedAvg(Strategy):\n",
        "    \"\"\"Federated Averaging strategy.\n",
        "    \"\"\"\n",
        "\n",
        "    # pylint: disable=too-many-arguments,too-many-instance-attributes, line-too-long\n",
        "    def __init__(\n",
        "        self,\n",
        "        *,\n",
        "        fraction_fit: float = 1.0,\n",
        "        fraction_evaluate: float = 1.0,\n",
        "        min_fit_clients: int = 2,\n",
        "        min_evaluate_clients: int = 2,\n",
        "        min_available_clients: int = 2,\n",
        "        evaluate_fn: Optional[\n",
        "            Callable[\n",
        "                [int, NDArrays, Dict[str, Scalar]],\n",
        "                Optional[Tuple[float, Dict[str, Scalar]]],\n",
        "            ]\n",
        "        ] = None,\n",
        "        on_fit_config_fn: Optional[Callable[[int], Dict[str, Scalar]]] = None,\n",
        "        on_evaluate_config_fn: Optional[Callable[[int], Dict[str, Scalar]]] = None,\n",
        "        accept_failures: bool = True,\n",
        "        initial_parameters: Optional[Parameters] = None,\n",
        "        fit_metrics_aggregation_fn: Optional[MetricsAggregationFn] = None,\n",
        "        evaluate_metrics_aggregation_fn: Optional[MetricsAggregationFn] = None,\n",
        "        inplace: bool = True,\n",
        "    ) -> None:\n",
        "        super().__init__()\n",
        "\n",
        "        if (\n",
        "            min_fit_clients > min_available_clients\n",
        "            or min_evaluate_clients > min_available_clients\n",
        "        ):\n",
        "            log(WARNING, WARNING_MIN_AVAILABLE_CLIENTS_TOO_LOW)\n",
        "\n",
        "        self.fraction_fit = fraction_fit\n",
        "        self.fraction_evaluate = fraction_evaluate\n",
        "        self.min_fit_clients = min_fit_clients\n",
        "        self.min_evaluate_clients = min_evaluate_clients\n",
        "        self.min_available_clients = min_available_clients\n",
        "        self.evaluate_fn = evaluate_fn\n",
        "        self.on_fit_config_fn = on_fit_config_fn\n",
        "        self.on_evaluate_config_fn = on_evaluate_config_fn\n",
        "        self.accept_failures = accept_failures\n",
        "        self.initial_parameters = initial_parameters\n",
        "        self.fit_metrics_aggregation_fn = fit_metrics_aggregation_fn\n",
        "        self.evaluate_metrics_aggregation_fn = evaluate_metrics_aggregation_fn\n",
        "        self.inplace = inplace\n",
        "\n",
        "    def __repr__(self) -> str:\n",
        "        \"\"\"Compute a string representation of the strategy.\"\"\"\n",
        "        rep = f\"FedAvg(accept_failures={self.accept_failures})\"\n",
        "        return rep\n",
        "\n",
        "    def num_fit_clients(self, num_available_clients: int) -> Tuple[int, int]:\n",
        "        \"\"\"Return the sample size and the required number of available clients.\"\"\"\n",
        "        num_clients = int(num_available_clients * self.fraction_fit)\n",
        "        return max(num_clients, self.min_fit_clients), self.min_available_clients\n",
        "\n",
        "    def num_evaluation_clients(self, num_available_clients: int) -> Tuple[int, int]:\n",
        "        \"\"\"Use a fraction of available clients for evaluation.\"\"\"\n",
        "        num_clients = int(num_available_clients * self.fraction_evaluate)\n",
        "        return max(num_clients, self.min_evaluate_clients), self.min_available_clients\n",
        "\n",
        "    def initialize_parameters(\n",
        "        self, client_manager: ClientManager\n",
        "    ) -> Optional[Parameters]:\n",
        "        \"\"\"Initialize global model parameters.\"\"\"\n",
        "        initial_parameters = self.initial_parameters\n",
        "        self.initial_parameters = None  # Don't keep initial parameters in memory\n",
        "        return initial_parameters\n",
        "\n",
        "    def evaluate(\n",
        "        self, server_round: int, parameters: Parameters\n",
        "    ) -> Optional[Tuple[float, Dict[str, Scalar]]]:\n",
        "        \"\"\"Evaluate model parameters using an evaluation function.\"\"\"\n",
        "        if self.evaluate_fn is None:\n",
        "            # No evaluation function provided\n",
        "            return None\n",
        "        parameters_ndarrays = parameters_to_ndarrays(parameters)\n",
        "        eval_res = self.evaluate_fn(server_round, parameters_ndarrays, {})\n",
        "        if eval_res is None:\n",
        "            return None\n",
        "        loss, metrics = eval_res\n",
        "        return loss, metrics\n",
        "\n",
        "    def configure_fit(\n",
        "        self, server_round: int, parameters: Parameters, client_manager: ClientManager\n",
        "    ) -> List[Tuple[ClientProxy, FitIns]]:\n",
        "        \"\"\"Configure the next round of training.\"\"\"\n",
        "        config = {}\n",
        "        if self.on_fit_config_fn is not None:\n",
        "            # Custom fit config function provided\n",
        "            config = self.on_fit_config_fn(server_round)\n",
        "        fit_ins = FitIns(parameters, config)\n",
        "\n",
        "        # Sample clients\n",
        "        sample_size, min_num_clients = self.num_fit_clients(\n",
        "            client_manager.num_available()\n",
        "        )\n",
        "        clients = client_manager.sample(\n",
        "            num_clients=sample_size, min_num_clients=min_num_clients\n",
        "        )\n",
        "\n",
        "        # Return client/config pairs\n",
        "        return [(client, fit_ins) for client in clients]\n",
        "\n",
        "    def configure_evaluate(\n",
        "        self, server_round: int, parameters: Parameters, client_manager: ClientManager\n",
        "    ) -> List[Tuple[ClientProxy, EvaluateIns]]:\n",
        "        \"\"\"Configure the next round of evaluation.\"\"\"\n",
        "        # Do not configure federated evaluation if fraction eval is 0.\n",
        "        if self.fraction_evaluate == 0.0:\n",
        "            return []\n",
        "\n",
        "        # Parameters and config\n",
        "        config = {}\n",
        "        if self.on_evaluate_config_fn is not None:\n",
        "            # Custom evaluation config function provided\n",
        "            config = self.on_evaluate_config_fn(server_round)\n",
        "        evaluate_ins = EvaluateIns(parameters, config)\n",
        "\n",
        "        # Sample clients\n",
        "        sample_size, min_num_clients = self.num_evaluation_clients(\n",
        "            client_manager.num_available()\n",
        "        )\n",
        "        clients = client_manager.sample(\n",
        "            num_clients=sample_size, min_num_clients=min_num_clients\n",
        "        )\n",
        "\n",
        "        # Return client/config pairs\n",
        "        return [(client, evaluate_ins) for client in clients]\n",
        "\n",
        "    def aggregate_fit(\n",
        "        self,\n",
        "        server_round: int,\n",
        "        results: List[Tuple[ClientProxy, FitRes]],\n",
        "        failures: List[Union[Tuple[ClientProxy, FitRes], BaseException]],\n",
        "    ) -> Tuple[Optional[Parameters], Dict[str, Scalar]]:\n",
        "        \"\"\"Aggregate fit results using weighted average.\"\"\"\n",
        "        if not results:\n",
        "            return None, {}\n",
        "        # Do not aggregate if there are failures and failures are not accepted\n",
        "        if not self.accept_failures and failures:\n",
        "            return None, {}\n",
        "\n",
        "        if self.inplace:\n",
        "            # Does in-place weighted average of results\n",
        "            aggregated_ndarrays = aggregate_inplace(results)\n",
        "        else:\n",
        "            # Convert results\n",
        "            weights_results = [\n",
        "                (parameters_to_ndarrays(fit_res.parameters), fit_res.num_examples)\n",
        "                for _, fit_res in results\n",
        "            ]\n",
        "            aggregated_ndarrays = aggregate(weights_results)\n",
        "\n",
        "        parameters_aggregated = ndarrays_to_parameters(aggregated_ndarrays)\n",
        "\n",
        "        # Aggregate custom metrics if aggregation fn was provided\n",
        "        metrics_aggregated = {}\n",
        "        if self.fit_metrics_aggregation_fn:\n",
        "            fit_metrics = [(res.num_examples, res.metrics) for _, res in results]\n",
        "            metrics_aggregated = self.fit_metrics_aggregation_fn(fit_metrics)\n",
        "        elif server_round == 1:  # Only log this warning once\n",
        "            log(WARNING, \"No fit_metrics_aggregation_fn provided\")\n",
        "\n",
        "        return parameters_aggregated, metrics_aggregated\n",
        "\n",
        "    def aggregate_evaluate(\n",
        "        self,\n",
        "        server_round: int,\n",
        "        results: List[Tuple[ClientProxy, EvaluateRes]],\n",
        "        failures: List[Union[Tuple[ClientProxy, EvaluateRes], BaseException]],\n",
        "    ) -> Tuple[Optional[float], Dict[str, Scalar]]:\n",
        "        \"\"\"Aggregate evaluation losses using weighted average.\"\"\"\n",
        "        if not results:\n",
        "            return None, {}\n",
        "        # Do not aggregate if there are failures and failures are not accepted\n",
        "        if not self.accept_failures and failures:\n",
        "            return None, {}\n",
        "\n",
        "        num_examples_total = sum(evaluate_res.num_examples for _, evaluate_res in results)\n",
        "\n",
        "        loss_aggregated = weighted_loss_avg(\n",
        "            [\n",
        "                (evaluate_res.num_examples, evaluate_res.loss)\n",
        "                for _, evaluate_res in results\n",
        "            ]\n",
        "        )\n",
        "        # Aggregate metrics\n",
        "        metrics = {\n",
        "            \"accuracy\": 0.0\n",
        "        }\n",
        "        for _, evaluate_res in results:\n",
        "            metrics_client = evaluate_res.metrics\n",
        "            num_examples_client = evaluate_res.num_examples\n",
        "\n",
        "            metrics[\"accuracy\"] += num_examples_client * metrics_client[\"accuracy\"]\n",
        "\n",
        "        metrics[\"accuracy\"] /= num_examples_total\n",
        "\n",
        "        return loss_aggregated, metrics"
      ],
      "metadata": {
        "id": "NktfWuADf7hD"
      },
      "execution_count": null,
      "outputs": []
    },
    {
      "cell_type": "code",
      "execution_count": null,
      "metadata": {
        "colab": {
          "base_uri": "https://localhost:8080/"
        },
        "id": "BB5KrwYYm59S",
        "outputId": "bd5a4436-aec4-4b9d-cea1-5e34c113a755"
      },
      "outputs": [
        {
          "output_type": "stream",
          "name": "stderr",
          "text": [
            "\u001b[92mINFO \u001b[0m:      Starting Flower simulation, config: num_rounds=10, no round_timeout\n",
            "INFO:flwr:Starting Flower simulation, config: num_rounds=10, no round_timeout\n",
            "/usr/lib/python3.10/subprocess.py:1796: RuntimeWarning: os.fork() was called. os.fork() is incompatible with multithreaded code, and JAX is multithreaded, so this will likely lead to a deadlock.\n",
            "  self.pid = _posixsubprocess.fork_exec(\n",
            "2024-05-09 08:50:30,350\tINFO worker.py:1621 -- Started a local Ray instance.\n",
            "\u001b[92mINFO \u001b[0m:      Flower VCE: Ray initialized with resources: {'object_store_memory': 3909919948.0, 'memory': 7819839899.0, 'node:172.28.0.12': 1.0, 'node:__internal_head__': 1.0, 'CPU': 2.0}\n",
            "INFO:flwr:Flower VCE: Ray initialized with resources: {'object_store_memory': 3909919948.0, 'memory': 7819839899.0, 'node:172.28.0.12': 1.0, 'node:__internal_head__': 1.0, 'CPU': 2.0}\n",
            "\u001b[92mINFO \u001b[0m:      Optimize your simulation with Flower VCE: https://flower.ai/docs/framework/how-to-run-simulations.html\n",
            "INFO:flwr:Optimize your simulation with Flower VCE: https://flower.ai/docs/framework/how-to-run-simulations.html\n",
            "\u001b[92mINFO \u001b[0m:      Flower VCE: Resources for each Virtual Client: {'num_cpus': 1, 'num_gpus': 0.0}\n",
            "INFO:flwr:Flower VCE: Resources for each Virtual Client: {'num_cpus': 1, 'num_gpus': 0.0}\n",
            "\u001b[92mINFO \u001b[0m:      Flower VCE: Creating VirtualClientEngineActorPool with 2 actors\n",
            "INFO:flwr:Flower VCE: Creating VirtualClientEngineActorPool with 2 actors\n",
            "\u001b[92mINFO \u001b[0m:      [INIT]\n",
            "INFO:flwr:[INIT]\n",
            "\u001b[92mINFO \u001b[0m:      Requesting initial parameters from one random client\n",
            "INFO:flwr:Requesting initial parameters from one random client\n",
            "\u001b[2m\u001b[36m(pid=29712)\u001b[0m 2024-05-09 08:50:42.549944: E external/local_xla/xla/stream_executor/cuda/cuda_dnn.cc:9261] Unable to register cuDNN factory: Attempting to register factory for plugin cuDNN when one has already been registered\n",
            "\u001b[2m\u001b[36m(pid=29712)\u001b[0m 2024-05-09 08:50:42.550066: E external/local_xla/xla/stream_executor/cuda/cuda_fft.cc:607] Unable to register cuFFT factory: Attempting to register factory for plugin cuFFT when one has already been registered\n",
            "\u001b[2m\u001b[36m(pid=29712)\u001b[0m 2024-05-09 08:50:42.552174: E external/local_xla/xla/stream_executor/cuda/cuda_blas.cc:1515] Unable to register cuBLAS factory: Attempting to register factory for plugin cuBLAS when one has already been registered\n",
            "\u001b[2m\u001b[36m(pid=29712)\u001b[0m 2024-05-09 08:50:48.010513: W tensorflow/compiler/tf2tensorrt/utils/py_utils.cc:38] TF-TRT Warning: Could not find TensorRT\n",
            "\u001b[2m\u001b[36m(pid=29711)\u001b[0m 2024-05-09 08:50:42.992402: E external/local_xla/xla/stream_executor/cuda/cuda_dnn.cc:9261] Unable to register cuDNN factory: Attempting to register factory for plugin cuDNN when one has already been registered\n",
            "\u001b[2m\u001b[36m(pid=29711)\u001b[0m 2024-05-09 08:50:42.992518: E external/local_xla/xla/stream_executor/cuda/cuda_fft.cc:607] Unable to register cuFFT factory: Attempting to register factory for plugin cuFFT when one has already been registered\n",
            "\u001b[2m\u001b[36m(pid=29711)\u001b[0m 2024-05-09 08:50:42.995290: E external/local_xla/xla/stream_executor/cuda/cuda_blas.cc:1515] Unable to register cuBLAS factory: Attempting to register factory for plugin cuBLAS when one has already been registered\n",
            "\u001b[92mINFO \u001b[0m:      Received initial parameters from one random client\n",
            "INFO:flwr:Received initial parameters from one random client\n",
            "\u001b[92mINFO \u001b[0m:      Evaluating initial global parameters\n",
            "INFO:flwr:Evaluating initial global parameters\n",
            "\u001b[92mINFO \u001b[0m:      \n",
            "INFO:flwr:\n",
            "\u001b[92mINFO \u001b[0m:      [ROUND 1]\n",
            "INFO:flwr:[ROUND 1]\n",
            "\u001b[92mINFO \u001b[0m:      configure_fit: strategy sampled 10 clients (out of 50)\n",
            "INFO:flwr:configure_fit: strategy sampled 10 clients (out of 50)\n",
            "\u001b[2m\u001b[36m(ClientAppActor pid=29712)\u001b[0m /usr/local/lib/python3.10/dist-packages/backpack/extensions/backprop_extension.py:106: UserWarning: Extension saving to batch_l2 does not have an extension for Module <class '__main__.Net'> although the module has parameters\n",
            "\u001b[2m\u001b[36m(ClientAppActor pid=29712)\u001b[0m   warnings.warn(\n",
            "\u001b[2m\u001b[36m(ClientAppActor pid=29712)\u001b[0m /usr/local/lib/python3.10/dist-packages/backpack/extensions/backprop_extension.py:106: UserWarning: Extension saving to grad_batch does not have an extension for Module <class '__main__.Net'> although the module has parameters\n",
            "\u001b[2m\u001b[36m(ClientAppActor pid=29712)\u001b[0m   warnings.warn(\n",
            "\u001b[2m\u001b[36m(pid=29711)\u001b[0m 2024-05-09 08:50:48.553905: W tensorflow/compiler/tf2tensorrt/utils/py_utils.cc:38] TF-TRT Warning: Could not find TensorRT\n",
            "\u001b[2m\u001b[36m(ClientAppActor pid=29711)\u001b[0m /usr/local/lib/python3.10/dist-packages/backpack/extensions/backprop_extension.py:106: UserWarning: Extension saving to batch_l2 does not have an extension for Module <class '__main__.Net'> although the module has parameters\n",
            "\u001b[2m\u001b[36m(ClientAppActor pid=29711)\u001b[0m   warnings.warn(\u001b[32m [repeated 2x across cluster] (Ray deduplicates logs by default. Set RAY_DEDUP_LOGS=0 to disable log deduplication, or see https://docs.ray.io/en/master/ray-observability/ray-logging.html#log-deduplication for more options.)\u001b[0m\n",
            "\u001b[2m\u001b[36m(ClientAppActor pid=29711)\u001b[0m /usr/local/lib/python3.10/dist-packages/backpack/extensions/backprop_extension.py:106: UserWarning: Extension saving to grad_batch does not have an extension for Module <class '__main__.Net'> although the module has parameters\n",
            "\u001b[92mINFO \u001b[0m:      aggregate_fit: received 10 results and 0 failures\n",
            "INFO:flwr:aggregate_fit: received 10 results and 0 failures\n",
            "\u001b[93mWARNING \u001b[0m:   No fit_metrics_aggregation_fn provided\n",
            "WARNING:flwr:No fit_metrics_aggregation_fn provided\n",
            "\u001b[92mINFO \u001b[0m:      configure_evaluate: strategy sampled 5 clients (out of 50)\n",
            "INFO:flwr:configure_evaluate: strategy sampled 5 clients (out of 50)\n",
            "\u001b[92mINFO \u001b[0m:      aggregate_evaluate: received 5 results and 0 failures\n",
            "INFO:flwr:aggregate_evaluate: received 5 results and 0 failures\n",
            "\u001b[92mINFO \u001b[0m:      \n",
            "INFO:flwr:\n",
            "\u001b[92mINFO \u001b[0m:      [ROUND 2]\n",
            "INFO:flwr:[ROUND 2]\n",
            "\u001b[92mINFO \u001b[0m:      configure_fit: strategy sampled 10 clients (out of 50)\n",
            "INFO:flwr:configure_fit: strategy sampled 10 clients (out of 50)\n",
            "\u001b[2m\u001b[36m(ClientAppActor pid=29711)\u001b[0m /usr/local/lib/python3.10/dist-packages/backpack/extensions/backprop_extension.py:106: UserWarning: Extension saving to batch_l2 does not have an extension for Module <class '__main__.Net'> although the module has parameters\n",
            "\u001b[2m\u001b[36m(ClientAppActor pid=29711)\u001b[0m /usr/local/lib/python3.10/dist-packages/backpack/extensions/backprop_extension.py:106: UserWarning: Extension saving to grad_batch does not have an extension for Module <class '__main__.Net'> although the module has parameters\n",
            "\u001b[2m\u001b[36m(ClientAppActor pid=29711)\u001b[0m   warnings.warn(\u001b[32m [repeated 2x across cluster]\u001b[0m\n",
            "\u001b[2m\u001b[36m(ClientAppActor pid=29712)\u001b[0m /usr/local/lib/python3.10/dist-packages/backpack/extensions/backprop_extension.py:106: UserWarning: Extension saving to batch_l2 does not have an extension for Module <class '__main__.Net'> although the module has parameters\n",
            "\u001b[2m\u001b[36m(ClientAppActor pid=29712)\u001b[0m /usr/local/lib/python3.10/dist-packages/backpack/extensions/backprop_extension.py:106: UserWarning: Extension saving to grad_batch does not have an extension for Module <class '__main__.Net'> although the module has parameters\n",
            "\u001b[2m\u001b[36m(ClientAppActor pid=29712)\u001b[0m   warnings.warn(\u001b[32m [repeated 2x across cluster]\u001b[0m\n",
            "\u001b[92mINFO \u001b[0m:      aggregate_fit: received 10 results and 0 failures\n",
            "INFO:flwr:aggregate_fit: received 10 results and 0 failures\n",
            "\u001b[92mINFO \u001b[0m:      configure_evaluate: strategy sampled 5 clients (out of 50)\n",
            "INFO:flwr:configure_evaluate: strategy sampled 5 clients (out of 50)\n",
            "\u001b[92mINFO \u001b[0m:      aggregate_evaluate: received 5 results and 0 failures\n",
            "INFO:flwr:aggregate_evaluate: received 5 results and 0 failures\n",
            "\u001b[92mINFO \u001b[0m:      \n",
            "INFO:flwr:\n",
            "\u001b[92mINFO \u001b[0m:      [ROUND 3]\n",
            "INFO:flwr:[ROUND 3]\n",
            "\u001b[92mINFO \u001b[0m:      configure_fit: strategy sampled 10 clients (out of 50)\n",
            "INFO:flwr:configure_fit: strategy sampled 10 clients (out of 50)\n",
            "\u001b[2m\u001b[36m(ClientAppActor pid=29712)\u001b[0m /usr/local/lib/python3.10/dist-packages/backpack/extensions/backprop_extension.py:106: UserWarning: Extension saving to batch_l2 does not have an extension for Module <class '__main__.Net'> although the module has parameters\n",
            "\u001b[2m\u001b[36m(ClientAppActor pid=29712)\u001b[0m /usr/local/lib/python3.10/dist-packages/backpack/extensions/backprop_extension.py:106: UserWarning: Extension saving to grad_batch does not have an extension for Module <class '__main__.Net'> although the module has parameters\n",
            "\u001b[2m\u001b[36m(ClientAppActor pid=29712)\u001b[0m   warnings.warn(\u001b[32m [repeated 2x across cluster]\u001b[0m\n",
            "\u001b[2m\u001b[36m(ClientAppActor pid=29711)\u001b[0m /usr/local/lib/python3.10/dist-packages/backpack/extensions/backprop_extension.py:106: UserWarning: Extension saving to batch_l2 does not have an extension for Module <class '__main__.Net'> although the module has parameters\n",
            "\u001b[2m\u001b[36m(ClientAppActor pid=29711)\u001b[0m /usr/local/lib/python3.10/dist-packages/backpack/extensions/backprop_extension.py:106: UserWarning: Extension saving to grad_batch does not have an extension for Module <class '__main__.Net'> although the module has parameters\n",
            "\u001b[2m\u001b[36m(ClientAppActor pid=29711)\u001b[0m   warnings.warn(\u001b[32m [repeated 2x across cluster]\u001b[0m\n",
            "\u001b[92mINFO \u001b[0m:      aggregate_fit: received 10 results and 0 failures\n",
            "INFO:flwr:aggregate_fit: received 10 results and 0 failures\n",
            "\u001b[92mINFO \u001b[0m:      configure_evaluate: strategy sampled 5 clients (out of 50)\n",
            "INFO:flwr:configure_evaluate: strategy sampled 5 clients (out of 50)\n",
            "\u001b[92mINFO \u001b[0m:      aggregate_evaluate: received 5 results and 0 failures\n",
            "INFO:flwr:aggregate_evaluate: received 5 results and 0 failures\n",
            "\u001b[92mINFO \u001b[0m:      \n",
            "INFO:flwr:\n",
            "\u001b[92mINFO \u001b[0m:      [ROUND 4]\n",
            "INFO:flwr:[ROUND 4]\n",
            "\u001b[92mINFO \u001b[0m:      configure_fit: strategy sampled 10 clients (out of 50)\n",
            "INFO:flwr:configure_fit: strategy sampled 10 clients (out of 50)\n",
            "\u001b[2m\u001b[36m(ClientAppActor pid=29711)\u001b[0m /usr/local/lib/python3.10/dist-packages/backpack/extensions/backprop_extension.py:106: UserWarning: Extension saving to batch_l2 does not have an extension for Module <class '__main__.Net'> although the module has parameters\n",
            "\u001b[2m\u001b[36m(ClientAppActor pid=29711)\u001b[0m /usr/local/lib/python3.10/dist-packages/backpack/extensions/backprop_extension.py:106: UserWarning: Extension saving to grad_batch does not have an extension for Module <class '__main__.Net'> although the module has parameters\n",
            "\u001b[2m\u001b[36m(ClientAppActor pid=29711)\u001b[0m   warnings.warn(\u001b[32m [repeated 2x across cluster]\u001b[0m\n",
            "\u001b[2m\u001b[36m(ClientAppActor pid=29712)\u001b[0m /usr/local/lib/python3.10/dist-packages/backpack/extensions/backprop_extension.py:106: UserWarning: Extension saving to batch_l2 does not have an extension for Module <class '__main__.Net'> although the module has parameters\n",
            "\u001b[2m\u001b[36m(ClientAppActor pid=29712)\u001b[0m /usr/local/lib/python3.10/dist-packages/backpack/extensions/backprop_extension.py:106: UserWarning: Extension saving to grad_batch does not have an extension for Module <class '__main__.Net'> although the module has parameters\n",
            "\u001b[2m\u001b[36m(ClientAppActor pid=29712)\u001b[0m   warnings.warn(\u001b[32m [repeated 2x across cluster]\u001b[0m\n",
            "\u001b[92mINFO \u001b[0m:      aggregate_fit: received 10 results and 0 failures\n",
            "INFO:flwr:aggregate_fit: received 10 results and 0 failures\n",
            "\u001b[92mINFO \u001b[0m:      configure_evaluate: strategy sampled 5 clients (out of 50)\n",
            "INFO:flwr:configure_evaluate: strategy sampled 5 clients (out of 50)\n",
            "\u001b[92mINFO \u001b[0m:      aggregate_evaluate: received 5 results and 0 failures\n",
            "INFO:flwr:aggregate_evaluate: received 5 results and 0 failures\n",
            "\u001b[92mINFO \u001b[0m:      \n",
            "INFO:flwr:\n",
            "\u001b[92mINFO \u001b[0m:      [ROUND 5]\n",
            "INFO:flwr:[ROUND 5]\n",
            "\u001b[92mINFO \u001b[0m:      configure_fit: strategy sampled 10 clients (out of 50)\n",
            "INFO:flwr:configure_fit: strategy sampled 10 clients (out of 50)\n",
            "\u001b[2m\u001b[36m(ClientAppActor pid=29712)\u001b[0m /usr/local/lib/python3.10/dist-packages/backpack/extensions/backprop_extension.py:106: UserWarning: Extension saving to batch_l2 does not have an extension for Module <class '__main__.Net'> although the module has parameters\n",
            "\u001b[2m\u001b[36m(ClientAppActor pid=29712)\u001b[0m /usr/local/lib/python3.10/dist-packages/backpack/extensions/backprop_extension.py:106: UserWarning: Extension saving to grad_batch does not have an extension for Module <class '__main__.Net'> although the module has parameters\n",
            "\u001b[2m\u001b[36m(ClientAppActor pid=29712)\u001b[0m   warnings.warn(\u001b[32m [repeated 2x across cluster]\u001b[0m\n",
            "\u001b[2m\u001b[36m(ClientAppActor pid=29711)\u001b[0m /usr/local/lib/python3.10/dist-packages/backpack/extensions/backprop_extension.py:106: UserWarning: Extension saving to batch_l2 does not have an extension for Module <class '__main__.Net'> although the module has parameters\n",
            "\u001b[2m\u001b[36m(ClientAppActor pid=29711)\u001b[0m /usr/local/lib/python3.10/dist-packages/backpack/extensions/backprop_extension.py:106: UserWarning: Extension saving to grad_batch does not have an extension for Module <class '__main__.Net'> although the module has parameters\n",
            "\u001b[2m\u001b[36m(ClientAppActor pid=29711)\u001b[0m   warnings.warn(\u001b[32m [repeated 2x across cluster]\u001b[0m\n",
            "\u001b[92mINFO \u001b[0m:      aggregate_fit: received 10 results and 0 failures\n",
            "INFO:flwr:aggregate_fit: received 10 results and 0 failures\n",
            "\u001b[92mINFO \u001b[0m:      configure_evaluate: strategy sampled 5 clients (out of 50)\n",
            "INFO:flwr:configure_evaluate: strategy sampled 5 clients (out of 50)\n",
            "\u001b[92mINFO \u001b[0m:      aggregate_evaluate: received 5 results and 0 failures\n",
            "INFO:flwr:aggregate_evaluate: received 5 results and 0 failures\n",
            "\u001b[92mINFO \u001b[0m:      \n",
            "INFO:flwr:\n",
            "\u001b[92mINFO \u001b[0m:      [ROUND 6]\n",
            "INFO:flwr:[ROUND 6]\n",
            "\u001b[92mINFO \u001b[0m:      configure_fit: strategy sampled 10 clients (out of 50)\n",
            "INFO:flwr:configure_fit: strategy sampled 10 clients (out of 50)\n",
            "\u001b[2m\u001b[36m(ClientAppActor pid=29711)\u001b[0m /usr/local/lib/python3.10/dist-packages/backpack/extensions/backprop_extension.py:106: UserWarning: Extension saving to batch_l2 does not have an extension for Module <class '__main__.Net'> although the module has parameters\n",
            "\u001b[2m\u001b[36m(ClientAppActor pid=29711)\u001b[0m /usr/local/lib/python3.10/dist-packages/backpack/extensions/backprop_extension.py:106: UserWarning: Extension saving to grad_batch does not have an extension for Module <class '__main__.Net'> although the module has parameters\n",
            "\u001b[2m\u001b[36m(ClientAppActor pid=29711)\u001b[0m   warnings.warn(\u001b[32m [repeated 2x across cluster]\u001b[0m\n",
            "\u001b[2m\u001b[36m(ClientAppActor pid=29712)\u001b[0m /usr/local/lib/python3.10/dist-packages/backpack/extensions/backprop_extension.py:106: UserWarning: Extension saving to batch_l2 does not have an extension for Module <class '__main__.Net'> although the module has parameters\n",
            "\u001b[2m\u001b[36m(ClientAppActor pid=29712)\u001b[0m /usr/local/lib/python3.10/dist-packages/backpack/extensions/backprop_extension.py:106: UserWarning: Extension saving to grad_batch does not have an extension for Module <class '__main__.Net'> although the module has parameters\n",
            "\u001b[2m\u001b[36m(ClientAppActor pid=29712)\u001b[0m   warnings.warn(\u001b[32m [repeated 2x across cluster]\u001b[0m\n",
            "\u001b[92mINFO \u001b[0m:      aggregate_fit: received 10 results and 0 failures\n",
            "INFO:flwr:aggregate_fit: received 10 results and 0 failures\n",
            "\u001b[92mINFO \u001b[0m:      configure_evaluate: strategy sampled 5 clients (out of 50)\n",
            "INFO:flwr:configure_evaluate: strategy sampled 5 clients (out of 50)\n",
            "\u001b[92mINFO \u001b[0m:      aggregate_evaluate: received 5 results and 0 failures\n",
            "INFO:flwr:aggregate_evaluate: received 5 results and 0 failures\n",
            "\u001b[92mINFO \u001b[0m:      \n",
            "INFO:flwr:\n",
            "\u001b[92mINFO \u001b[0m:      [ROUND 7]\n",
            "INFO:flwr:[ROUND 7]\n",
            "\u001b[92mINFO \u001b[0m:      configure_fit: strategy sampled 10 clients (out of 50)\n",
            "INFO:flwr:configure_fit: strategy sampled 10 clients (out of 50)\n",
            "\u001b[2m\u001b[36m(ClientAppActor pid=29712)\u001b[0m /usr/local/lib/python3.10/dist-packages/backpack/extensions/backprop_extension.py:106: UserWarning: Extension saving to batch_l2 does not have an extension for Module <class '__main__.Net'> although the module has parameters\n",
            "\u001b[2m\u001b[36m(ClientAppActor pid=29712)\u001b[0m /usr/local/lib/python3.10/dist-packages/backpack/extensions/backprop_extension.py:106: UserWarning: Extension saving to grad_batch does not have an extension for Module <class '__main__.Net'> although the module has parameters\n",
            "\u001b[2m\u001b[36m(ClientAppActor pid=29712)\u001b[0m   warnings.warn(\u001b[32m [repeated 2x across cluster]\u001b[0m\n",
            "\u001b[2m\u001b[36m(ClientAppActor pid=29711)\u001b[0m /usr/local/lib/python3.10/dist-packages/backpack/extensions/backprop_extension.py:106: UserWarning: Extension saving to batch_l2 does not have an extension for Module <class '__main__.Net'> although the module has parameters\n",
            "\u001b[2m\u001b[36m(ClientAppActor pid=29711)\u001b[0m /usr/local/lib/python3.10/dist-packages/backpack/extensions/backprop_extension.py:106: UserWarning: Extension saving to grad_batch does not have an extension for Module <class '__main__.Net'> although the module has parameters\n",
            "\u001b[2m\u001b[36m(ClientAppActor pid=29711)\u001b[0m   warnings.warn(\u001b[32m [repeated 2x across cluster]\u001b[0m\n",
            "\u001b[92mINFO \u001b[0m:      aggregate_fit: received 10 results and 0 failures\n",
            "INFO:flwr:aggregate_fit: received 10 results and 0 failures\n",
            "\u001b[92mINFO \u001b[0m:      configure_evaluate: strategy sampled 5 clients (out of 50)\n",
            "INFO:flwr:configure_evaluate: strategy sampled 5 clients (out of 50)\n",
            "\u001b[92mINFO \u001b[0m:      aggregate_evaluate: received 5 results and 0 failures\n",
            "INFO:flwr:aggregate_evaluate: received 5 results and 0 failures\n",
            "\u001b[92mINFO \u001b[0m:      \n",
            "INFO:flwr:\n",
            "\u001b[92mINFO \u001b[0m:      [ROUND 8]\n",
            "INFO:flwr:[ROUND 8]\n",
            "\u001b[92mINFO \u001b[0m:      configure_fit: strategy sampled 10 clients (out of 50)\n",
            "INFO:flwr:configure_fit: strategy sampled 10 clients (out of 50)\n",
            "\u001b[2m\u001b[36m(ClientAppActor pid=29711)\u001b[0m /usr/local/lib/python3.10/dist-packages/backpack/extensions/backprop_extension.py:106: UserWarning: Extension saving to batch_l2 does not have an extension for Module <class '__main__.Net'> although the module has parameters\n",
            "\u001b[2m\u001b[36m(ClientAppActor pid=29711)\u001b[0m /usr/local/lib/python3.10/dist-packages/backpack/extensions/backprop_extension.py:106: UserWarning: Extension saving to grad_batch does not have an extension for Module <class '__main__.Net'> although the module has parameters\n",
            "\u001b[2m\u001b[36m(ClientAppActor pid=29711)\u001b[0m   warnings.warn(\u001b[32m [repeated 2x across cluster]\u001b[0m\n",
            "\u001b[2m\u001b[36m(ClientAppActor pid=29712)\u001b[0m /usr/local/lib/python3.10/dist-packages/backpack/extensions/backprop_extension.py:106: UserWarning: Extension saving to batch_l2 does not have an extension for Module <class '__main__.Net'> although the module has parameters\n",
            "\u001b[2m\u001b[36m(ClientAppActor pid=29712)\u001b[0m /usr/local/lib/python3.10/dist-packages/backpack/extensions/backprop_extension.py:106: UserWarning: Extension saving to grad_batch does not have an extension for Module <class '__main__.Net'> although the module has parameters\n",
            "\u001b[2m\u001b[36m(ClientAppActor pid=29712)\u001b[0m   warnings.warn(\u001b[32m [repeated 2x across cluster]\u001b[0m\n",
            "\u001b[92mINFO \u001b[0m:      aggregate_fit: received 10 results and 0 failures\n",
            "INFO:flwr:aggregate_fit: received 10 results and 0 failures\n",
            "\u001b[92mINFO \u001b[0m:      configure_evaluate: strategy sampled 5 clients (out of 50)\n",
            "INFO:flwr:configure_evaluate: strategy sampled 5 clients (out of 50)\n",
            "\u001b[92mINFO \u001b[0m:      aggregate_evaluate: received 5 results and 0 failures\n",
            "INFO:flwr:aggregate_evaluate: received 5 results and 0 failures\n",
            "\u001b[92mINFO \u001b[0m:      \n",
            "INFO:flwr:\n",
            "\u001b[92mINFO \u001b[0m:      [ROUND 9]\n",
            "INFO:flwr:[ROUND 9]\n",
            "\u001b[92mINFO \u001b[0m:      configure_fit: strategy sampled 10 clients (out of 50)\n",
            "INFO:flwr:configure_fit: strategy sampled 10 clients (out of 50)\n",
            "\u001b[2m\u001b[36m(ClientAppActor pid=29712)\u001b[0m /usr/local/lib/python3.10/dist-packages/backpack/extensions/backprop_extension.py:106: UserWarning: Extension saving to batch_l2 does not have an extension for Module <class '__main__.Net'> although the module has parameters\n",
            "\u001b[2m\u001b[36m(ClientAppActor pid=29712)\u001b[0m /usr/local/lib/python3.10/dist-packages/backpack/extensions/backprop_extension.py:106: UserWarning: Extension saving to grad_batch does not have an extension for Module <class '__main__.Net'> although the module has parameters\n",
            "\u001b[2m\u001b[36m(ClientAppActor pid=29712)\u001b[0m   warnings.warn(\u001b[32m [repeated 2x across cluster]\u001b[0m\n",
            "\u001b[2m\u001b[36m(ClientAppActor pid=29711)\u001b[0m /usr/local/lib/python3.10/dist-packages/backpack/extensions/backprop_extension.py:106: UserWarning: Extension saving to batch_l2 does not have an extension for Module <class '__main__.Net'> although the module has parameters\n",
            "\u001b[2m\u001b[36m(ClientAppActor pid=29711)\u001b[0m /usr/local/lib/python3.10/dist-packages/backpack/extensions/backprop_extension.py:106: UserWarning: Extension saving to grad_batch does not have an extension for Module <class '__main__.Net'> although the module has parameters\n",
            "\u001b[2m\u001b[36m(ClientAppActor pid=29711)\u001b[0m   warnings.warn(\u001b[32m [repeated 2x across cluster]\u001b[0m\n",
            "\u001b[92mINFO \u001b[0m:      aggregate_fit: received 10 results and 0 failures\n",
            "INFO:flwr:aggregate_fit: received 10 results and 0 failures\n",
            "\u001b[92mINFO \u001b[0m:      configure_evaluate: strategy sampled 5 clients (out of 50)\n",
            "INFO:flwr:configure_evaluate: strategy sampled 5 clients (out of 50)\n",
            "\u001b[92mINFO \u001b[0m:      aggregate_evaluate: received 5 results and 0 failures\n",
            "INFO:flwr:aggregate_evaluate: received 5 results and 0 failures\n",
            "\u001b[92mINFO \u001b[0m:      \n",
            "INFO:flwr:\n",
            "\u001b[92mINFO \u001b[0m:      [ROUND 10]\n",
            "INFO:flwr:[ROUND 10]\n",
            "\u001b[92mINFO \u001b[0m:      configure_fit: strategy sampled 10 clients (out of 50)\n",
            "INFO:flwr:configure_fit: strategy sampled 10 clients (out of 50)\n",
            "\u001b[2m\u001b[36m(ClientAppActor pid=29711)\u001b[0m /usr/local/lib/python3.10/dist-packages/backpack/extensions/backprop_extension.py:106: UserWarning: Extension saving to batch_l2 does not have an extension for Module <class '__main__.Net'> although the module has parameters\n",
            "\u001b[2m\u001b[36m(ClientAppActor pid=29711)\u001b[0m /usr/local/lib/python3.10/dist-packages/backpack/extensions/backprop_extension.py:106: UserWarning: Extension saving to grad_batch does not have an extension for Module <class '__main__.Net'> although the module has parameters\n",
            "\u001b[2m\u001b[36m(ClientAppActor pid=29711)\u001b[0m   warnings.warn(\u001b[32m [repeated 2x across cluster]\u001b[0m\n",
            "\u001b[2m\u001b[36m(ClientAppActor pid=29712)\u001b[0m /usr/local/lib/python3.10/dist-packages/backpack/extensions/backprop_extension.py:106: UserWarning: Extension saving to batch_l2 does not have an extension for Module <class '__main__.Net'> although the module has parameters\n",
            "\u001b[2m\u001b[36m(ClientAppActor pid=29712)\u001b[0m /usr/local/lib/python3.10/dist-packages/backpack/extensions/backprop_extension.py:106: UserWarning: Extension saving to grad_batch does not have an extension for Module <class '__main__.Net'> although the module has parameters\n",
            "\u001b[2m\u001b[36m(ClientAppActor pid=29712)\u001b[0m   warnings.warn(\u001b[32m [repeated 2x across cluster]\u001b[0m\n",
            "\u001b[92mINFO \u001b[0m:      aggregate_fit: received 10 results and 0 failures\n",
            "INFO:flwr:aggregate_fit: received 10 results and 0 failures\n",
            "\u001b[92mINFO \u001b[0m:      configure_evaluate: strategy sampled 5 clients (out of 50)\n",
            "INFO:flwr:configure_evaluate: strategy sampled 5 clients (out of 50)\n",
            "\u001b[92mINFO \u001b[0m:      aggregate_evaluate: received 5 results and 0 failures\n",
            "INFO:flwr:aggregate_evaluate: received 5 results and 0 failures\n",
            "\u001b[92mINFO \u001b[0m:      \n",
            "INFO:flwr:\n",
            "\u001b[92mINFO \u001b[0m:      [SUMMARY]\n",
            "INFO:flwr:[SUMMARY]\n",
            "\u001b[92mINFO \u001b[0m:      Run finished 10 rounds in 13707.02s\n",
            "INFO:flwr:Run finished 10 rounds in 13707.02s\n",
            "\u001b[92mINFO \u001b[0m:      History (loss, distributed):\n",
            "INFO:flwr:History (loss, distributed):\n",
            "\u001b[92mINFO \u001b[0m:      \t('\\tround 1: 0.02516685645183425\\n'\n",
            "INFO:flwr:\t('\\tround 1: 0.02516685645183425\\n'\n",
            "\u001b[92mINFO \u001b[0m:      \t '\\tround 2: 0.03489576679594973\\n'\n",
            "INFO:flwr:\t '\\tround 2: 0.03489576679594973\\n'\n",
            "\u001b[92mINFO \u001b[0m:      \t '\\tround 3: 0.02124134834776533\\n'\n",
            "INFO:flwr:\t '\\tround 3: 0.02124134834776533\\n'\n",
            "\u001b[92mINFO \u001b[0m:      \t '\\tround 4: 0.03023507029601421\\n'\n",
            "INFO:flwr:\t '\\tround 4: 0.03023507029601421\\n'\n",
            "\u001b[92mINFO \u001b[0m:      \t '\\tround 5: 0.016975046438776953\\n'\n",
            "INFO:flwr:\t '\\tround 5: 0.016975046438776953\\n'\n",
            "\u001b[92mINFO \u001b[0m:      \t '\\tround 6: 0.017702411885404765\\n'\n",
            "INFO:flwr:\t '\\tround 6: 0.017702411885404765\\n'\n",
            "\u001b[92mINFO \u001b[0m:      \t '\\tround 7: 0.01575929146721605\\n'\n",
            "INFO:flwr:\t '\\tround 7: 0.01575929146721605\\n'\n",
            "\u001b[92mINFO \u001b[0m:      \t '\\tround 8: 0.012806037653270217\\n'\n",
            "INFO:flwr:\t '\\tround 8: 0.012806037653270217\\n'\n",
            "\u001b[92mINFO \u001b[0m:      \t '\\tround 9: 0.01253512233206641\\n'\n",
            "INFO:flwr:\t '\\tround 9: 0.01253512233206641\\n'\n",
            "\u001b[92mINFO \u001b[0m:      \t '\\tround 10: 0.010582307671127987\\n')History (metrics, distributed, evaluate):\n",
            "INFO:flwr:\t '\\tround 10: 0.010582307671127987\\n')History (metrics, distributed, evaluate):\n",
            "\u001b[92mINFO \u001b[0m:      \t{'accuracy': [(1, 0.5249061326658324),\n",
            "INFO:flwr:\t{'accuracy': [(1, 0.5249061326658324),\n",
            "\u001b[92mINFO \u001b[0m:      \t              (2, 0.3589486858573216),\n",
            "INFO:flwr:\t              (2, 0.3589486858573216),\n",
            "\u001b[92mINFO \u001b[0m:      \t              (3, 0.7299123904881101),\n",
            "INFO:flwr:\t              (3, 0.7299123904881101),\n",
            "\u001b[92mINFO \u001b[0m:      \t              (4, 0.6370463078848561),\n",
            "INFO:flwr:\t              (4, 0.6370463078848561),\n",
            "\u001b[92mINFO \u001b[0m:      \t              (5, 0.7439299123904882),\n",
            "INFO:flwr:\t              (5, 0.7439299123904882),\n",
            "\u001b[92mINFO \u001b[0m:      \t              (6, 0.8092615769712139),\n",
            "INFO:flwr:\t              (6, 0.8092615769712139),\n",
            "\u001b[92mINFO \u001b[0m:      \t              (7, 0.8197747183979975),\n",
            "INFO:flwr:\t              (7, 0.8197747183979975),\n",
            "\u001b[92mINFO \u001b[0m:      \t              (8, 0.9156445556946182),\n",
            "INFO:flwr:\t              (8, 0.9156445556946182),\n",
            "\u001b[92mINFO \u001b[0m:      \t              (9, 0.9151439299123906),\n",
            "INFO:flwr:\t              (9, 0.9151439299123906),\n",
            "\u001b[92mINFO \u001b[0m:      \t              (10, 0.9146433041301627)]}\n",
            "INFO:flwr:\t              (10, 0.9146433041301627)]}\n",
            "\u001b[92mINFO \u001b[0m:      \n",
            "INFO:flwr:\n"
          ]
        },
        {
          "output_type": "execute_result",
          "data": {
            "text/plain": [
              "History (loss, distributed):\n",
              "('\\tround 1: 0.02516685645183425\\n'\n",
              " '\\tround 2: 0.03489576679594973\\n'\n",
              " '\\tround 3: 0.02124134834776533\\n'\n",
              " '\\tround 4: 0.03023507029601421\\n'\n",
              " '\\tround 5: 0.016975046438776953\\n'\n",
              " '\\tround 6: 0.017702411885404765\\n'\n",
              " '\\tround 7: 0.01575929146721605\\n'\n",
              " '\\tround 8: 0.012806037653270217\\n'\n",
              " '\\tround 9: 0.01253512233206641\\n'\n",
              " '\\tround 10: 0.010582307671127987\\n')History (metrics, distributed, evaluate):\n",
              "{'accuracy': [(1, 0.5249061326658324),\n",
              "              (2, 0.3589486858573216),\n",
              "              (3, 0.7299123904881101),\n",
              "              (4, 0.6370463078848561),\n",
              "              (5, 0.7439299123904882),\n",
              "              (6, 0.8092615769712139),\n",
              "              (7, 0.8197747183979975),\n",
              "              (8, 0.9156445556946182),\n",
              "              (9, 0.9151439299123906),\n",
              "              (10, 0.9146433041301627)]}"
            ]
          },
          "metadata": {},
          "execution_count": 20
        }
      ],
      "source": [
        "# Create FedAvg strategy\n",
        "strategy = FedAvg(\n",
        "    fraction_fit=0.1,  # FL - Minimum fraction of training DAs\n",
        "    fraction_evaluate=0.1,  # FL - Minimum fraction of assessment DAs\n",
        "    min_fit_clients=10,  # FL - Minimum training DAs\n",
        "    min_evaluate_clients=5,  # FL - Minimum available DAs\n",
        "    min_available_clients=50,  # FL - Minimum available DAs\n",
        "    evaluate_metrics_aggregation_fn=weighted_average,  # Metric aggregation function\n",
        ")\n",
        "\n",
        "# Specify the resources each of your clients need. By default, each\n",
        "# client will be allocated 1x CPU and 0x GPUs\n",
        "client_resources = {\"num_cpus\": 1, \"num_gpus\": 0.0}\n",
        "if DEVICE.type == \"cuda\":\n",
        "    # here we are assigning an entire GPU for each client.\n",
        "    client_resources = {\"num_cpus\": 1, \"num_gpus\": 1.0}\n",
        "    # Refer to our documentation for more details about Flower Simulations\n",
        "    # and how to setup these `client_resources`.\n",
        "\n",
        "# Start simulation\n",
        "fl.simulation.start_simulation(\n",
        "    client_fn=client_fn,\n",
        "    num_clients=NUM_CLIENTS,\n",
        "    config=fl.server.ServerConfig(num_rounds=10),\n",
        "    strategy=strategy,\n",
        "    client_resources=client_resources,\n",
        ")"
      ]
    }
  ],
  "metadata": {
    "colab": {
      "provenance": []
    },
    "kernelspec": {
      "display_name": "Python 3",
      "name": "python3"
    },
    "language_info": {
      "name": "python"
    }
  },
  "nbformat": 4,
  "nbformat_minor": 0
}