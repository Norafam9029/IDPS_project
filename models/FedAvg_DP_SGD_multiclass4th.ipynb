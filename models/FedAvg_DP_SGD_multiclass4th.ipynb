{
  "cells": [
    {
      "cell_type": "markdown",
      "metadata": {
        "id": "VqZ6616WlUV0"
      },
      "source": [
        "# **Installing dependencies**"
      ]
    },
    {
      "cell_type": "code",
      "execution_count": null,
      "metadata": {
        "id": "tzcfVeurk3Lz",
        "collapsed": true
      },
      "outputs": [],
      "source": [
        "!pip install -q flwr[simulation] flwr_datasets[vision] torch torchvision matplotlib"
      ]
    },
    {
      "cell_type": "code",
      "execution_count": null,
      "metadata": {
        "id": "5S45bRg10ag3"
      },
      "outputs": [],
      "source": [
        "!pip install backpack-for-pytorch"
      ]
    },
    {
      "cell_type": "code",
      "execution_count": 4,
      "metadata": {
        "colab": {
          "base_uri": "https://localhost:8080/"
        },
        "id": "q7Yh4et5lZsM",
        "outputId": "ebda5f95-f6ab-467a-8bae-44f7e39aedb5"
      },
      "outputs": [
        {
          "output_type": "stream",
          "name": "stdout",
          "text": [
            "Training on cpu using PyTorch 2.2.1+cu121 and Flower 1.8.0\n"
          ]
        }
      ],
      "source": [
        "from collections import OrderedDict\n",
        "from typing import List, Tuple\n",
        "\n",
        "import matplotlib.pyplot as plt\n",
        "import numpy as np\n",
        "import pandas as pd\n",
        "import torch\n",
        "import torch.nn as nn\n",
        "import torch.nn.functional as F\n",
        "import torchvision.transforms as transforms\n",
        "from datasets.utils.logging import disable_progress_bar\n",
        "from torch.utils.data import Dataset, DataLoader\n",
        "from torch.optim import Optimizer\n",
        "\n",
        "from backpack import backpack,extend\n",
        "from backpack.extensions import BatchGrad, BatchL2Grad\n",
        "#from backpack.utils.examples import get_mnist_dataloader\n",
        "\n",
        "import flwr as fl\n",
        "from flwr.common import Metrics\n",
        "from flwr_datasets import FederatedDataset\n",
        "\n",
        "DEVICE = torch.device(\"cpu\")  # Try \"cuda\" to train on GPU\n",
        "print(\n",
        "    f\"Training on {DEVICE} using PyTorch {torch.__version__} and Flower {fl.__version__}\"\n",
        ")\n",
        "disable_progress_bar()"
      ]
    },
    {
      "cell_type": "code",
      "execution_count": 2,
      "metadata": {
        "colab": {
          "base_uri": "https://localhost:8080/"
        },
        "id": "Y6-c2W7coMSJ",
        "outputId": "86136c55-c8b0-4016-f74f-5b1f1a1d4f91"
      },
      "outputs": [
        {
          "output_type": "stream",
          "name": "stdout",
          "text": [
            "Mounted at /content/drive\n",
            " NF-ToN-IoT-v2.csv\t\t   'NF-ToN-IoT-v2-reduced(200k).csv'   NF-ToN-IoT-v2-reduced.csv\n",
            "'NF-ToN-IoT-v2-reduced(100k).csv'  'NF-ToN-IoT-v2-reduced(500k).csv'\n"
          ]
        }
      ],
      "source": [
        "from google.colab import drive\n",
        "drive.mount('/content/drive')\n",
        "!ls /content/drive/MyDrive/IDPS/Dataset/\n",
        "#   /content/drive/MyDrive/IDPS/Dataset/NF-ToN-IoT-v2-reduced(100k).csv\n",
        "#   /content/drive/MyDrive/IDPS/Dataset/NF-ToN-IoT-v2-reduced(200k).csv\n",
        "#   /content/drive/MyDrive/IDPS/Dataset/NF-ToN-IoT-v2-reduced(500k).csv\n",
        "#   /content/drive/MyDrive/IDPS/Dataset/NF-ToN-IoT-v2-reduced.csv"
      ]
    },
    {
      "cell_type": "markdown",
      "metadata": {
        "id": "42WaStD5l-qV"
      },
      "source": [
        "# **Loading the data**"
      ]
    },
    {
      "cell_type": "code",
      "execution_count": 5,
      "metadata": {
        "id": "dOv1ddW5mBz1"
      },
      "outputs": [],
      "source": [
        "import ipaddress\n",
        "from sklearn.preprocessing import LabelEncoder\n",
        "from sklearn.preprocessing import StandardScaler\n",
        "\n",
        "NUM_CLIENTS = 50\n",
        "BATCH_SIZE = 32\n",
        "\n",
        "class CustomDataset(Dataset):\n",
        "    def __init__(self, csv_file):\n",
        "        self.data = pd.read_csv(csv_file)\n",
        "        self.features = self.data.drop(columns=[\"Label\",\"Attack\"])\n",
        "        self.labels = self.data[\"Attack\"]\n",
        "\n",
        "        # Convert object columns to appropriate types\n",
        "        self.features['IPV4_SRC_ADDR'] = self.features['IPV4_SRC_ADDR'].apply(lambda x: int(ipaddress.IPv4Address(x)))\n",
        "        self.features['IPV4_DST_ADDR'] = self.features['IPV4_DST_ADDR'].apply(lambda x: int(ipaddress.IPv4Address(x)))\n",
        "\n",
        "        # Perform label encoding on the labels column\n",
        "        label_encoder = LabelEncoder()\n",
        "        self.labels = label_encoder.fit_transform(self.labels)\n",
        "\n",
        "        #Scaler\n",
        "        scaler = StandardScaler()\n",
        "        self.features = scaler.fit_transform(self.features)\n",
        "\n",
        "    def __len__(self):\n",
        "        return len(self.data)\n",
        "\n",
        "    def __getitem__(self, idx):\n",
        "        if isinstance(idx, (int, np.integer)):\n",
        "            features = torch.tensor(self.features.iloc[idx].values, dtype=torch.float32).squeeze(1)\n",
        "            label = torch.tensor(self.labels[idx], dtype=torch.long)\n",
        "            return {\"fts\": features, \"label\": label}\n",
        "        elif isinstance(idx, slice):\n",
        "            start = idx.start if idx.start is not None else 0\n",
        "            stop = idx.stop if idx.stop is not None else len(self.data)\n",
        "            step = idx.step if idx.step is not None else 1\n",
        "            features = self.features[start:stop:step]\n",
        "            labels = self.labels[start:stop:step]\n",
        "            return [{\"fts\": torch.tensor(f, dtype=torch.float32), \"label\": torch.tensor(l, dtype=torch.long)}\n",
        "                    for f, l in zip(features, labels)]\n",
        "        else:\n",
        "            raise IndexError(\"Invalid index type. Only integer and slice indices are supported.\")\n",
        "\n",
        "\n",
        "\n",
        "def load_datasets():\n",
        "    # Load the entire dataset\n",
        "    dataset = CustomDataset(csv_file=\"/content/drive/MyDrive/IDPS/Dataset/NF-ToN-IoT-v2-reduced(200k).csv\")\n",
        "\n",
        "    # Divide the dataset into partitions for each client\n",
        "    num_samples = len(dataset)\n",
        "    samples_per_client = num_samples // NUM_CLIENTS\n",
        "    trainloaders = []\n",
        "    valloaders = []\n",
        "    for client_id in range(NUM_CLIENTS):\n",
        "        start_idx = client_id * samples_per_client\n",
        "        end_idx = start_idx + samples_per_client\n",
        "\n",
        "        # Create a subset of the dataset for each client\n",
        "        client_dataset = dataset[start_idx:end_idx]\n",
        "\n",
        "        # Split the client dataset into train and validation sets\n",
        "        train_size = int(0.8 * len(client_dataset))\n",
        "        train_dataset, val_dataset = torch.utils.data.random_split(client_dataset,\n",
        "                                                                   [train_size, len(client_dataset) - train_size])\n",
        "\n",
        "        # Create DataLoader objects for train and validation sets\n",
        "        trainloader = DataLoader(train_dataset, batch_size=BATCH_SIZE, shuffle=True)\n",
        "        valloader = DataLoader(val_dataset, batch_size=BATCH_SIZE, shuffle=True)\n",
        "\n",
        "        trainloaders.append(trainloader)\n",
        "        valloaders.append(valloader)\n",
        "\n",
        "    # Create DataLoader object for the test set\n",
        "    test_dataset = dataset[len(dataset) - samples_per_client:]\n",
        "    testloader = DataLoader(test_dataset, batch_size=BATCH_SIZE, shuffle=True)\n",
        "\n",
        "    return trainloaders, valloaders, testloader\n",
        "\n",
        "\n",
        "trainloaders, valloaders, testloader = load_datasets()"
      ]
    },
    {
      "cell_type": "code",
      "execution_count": 6,
      "metadata": {
        "colab": {
          "base_uri": "https://localhost:8080/"
        },
        "id": "U8INXMGzkEBC",
        "outputId": "9dbdad5e-ec0d-418d-81f8-5adaeed8e398"
      },
      "outputs": [
        {
          "output_type": "execute_result",
          "data": {
            "text/plain": [
              "{'fts': tensor([[ 0.0594,  0.6019,  0.1719,  ..., -0.1789, -0.0873, -0.0575],\n",
              "         [-3.0626, -0.0223,  0.1719,  ..., -0.0634, 12.6898, -0.0575],\n",
              "         [ 0.0594, -0.1704,  0.1719,  ..., -0.1789, -0.0873, -0.0575],\n",
              "         ...,\n",
              "         [ 0.0594, -0.1131,  0.1719,  ..., -0.1789, -0.0873, -0.0575],\n",
              "         [ 0.0594, -0.3699,  0.1719,  ..., -0.1789, -0.0873, -0.0575],\n",
              "         [ 0.0594, -0.0572,  0.1719,  ...,  3.0554, -0.0873, -0.0575]]),\n",
              " 'label': tensor([6, 0, 0, 0, 0, 0, 1, 5, 5, 5, 4, 5, 0, 0, 3, 4, 1, 0, 5, 5, 6, 5, 6, 5,\n",
              "         0, 0, 6, 6, 3, 0, 0, 6])}"
            ]
          },
          "metadata": {},
          "execution_count": 6
        }
      ],
      "source": [
        "batch = next(iter(trainloaders[0]))\n",
        "batch"
      ]
    },
    {
      "cell_type": "code",
      "execution_count": 7,
      "metadata": {
        "colab": {
          "base_uri": "https://localhost:8080/"
        },
        "id": "ZyZfV1NvqcfK",
        "outputId": "148a614c-750c-4afb-be04-a92ba0fd6cf7"
      },
      "outputs": [
        {
          "output_type": "stream",
          "name": "stdout",
          "text": [
            "torch.Size([32, 43])\n",
            "torch.Size([32])\n"
          ]
        }
      ],
      "source": [
        "batch = next(iter(trainloaders[0]))\n",
        "features, labels = batch[\"fts\"], batch[\"label\"]\n",
        "print(features.shape)\n",
        "print(labels.shape)"
      ]
    },
    {
      "cell_type": "code",
      "execution_count": 8,
      "metadata": {
        "colab": {
          "base_uri": "https://localhost:8080/",
          "height": 444
        },
        "id": "lqrXFb-AmGbk",
        "outputId": "d6b33623-1eb0-4bb6-f019-8ee8ce9ed662"
      },
      "outputs": [
        {
          "output_type": "display_data",
          "data": {
            "text/plain": [
              "<Figure size 1200x600 with 32 Axes>"
            ],
            "image/png": "[encoded data removed]"
          },
          "metadata": {}
        }
      ],
      "source": [
        "batch = next(iter(trainloaders[0]))\n",
        "features, labels = batch[\"fts\"], batch[\"label\"]\n",
        "\n",
        "# Example code to visualize the data\n",
        "fig, axs = plt.subplots(4, 8, figsize=(12, 6))\n",
        "for i, ax in enumerate(axs.flat):\n",
        "    ax.imshow(features[i].reshape(1, -1))\n",
        "    ax.set_title(\"Label: \" + str(labels[i].item()))\n",
        "    ax.axis(\"off\")\n",
        "\n",
        "plt.tight_layout()\n",
        "plt.show()"
      ]
    },
    {
      "cell_type": "markdown",
      "metadata": {
        "id": "MaXPsQoGmISE"
      },
      "source": [
        "# **Centralized Training with PyTorch**"
      ]
    },
    {
      "cell_type": "markdown",
      "metadata": {
        "id": "JsEF5NTFmM17"
      },
      "source": [
        "### Defining the model"
      ]
    },
    {
      "cell_type": "code",
      "execution_count": 9,
      "metadata": {
        "id": "iR1Sc31SmMCD"
      },
      "outputs": [],
      "source": [
        "class Net(nn.Module):\n",
        "    def __init__(self):\n",
        "        super(Net, self).__init__()\n",
        "        self.fc1 = nn.Linear(43, 120)\n",
        "        self.fc2 = nn.Linear(120, 160)\n",
        "        self.fc3 = nn.Linear(160, 7)\n",
        "\n",
        "    def forward(self, x):\n",
        "        x = F.relu(self.fc1(x))\n",
        "        x = F.relu(self.fc2(x))\n",
        "        x = self.fc3(x)\n",
        "        return x\n",
        "\n"
      ]
    },
    {
      "cell_type": "code",
      "execution_count": 10,
      "metadata": {
        "id": "3bhl6B0cjWUa"
      },
      "outputs": [],
      "source": [
        "def make_broadcastable(v, X):\n",
        "    \"\"\"Returns a view of `v` that can be broadcast with `X`.\n",
        "\n",
        "    If `v` is a one-dimensional tensor [N] and `X` is a tensor of shape\n",
        "    `[N, ..., ]`, returns a view of v with singleton dimensions appended.\n",
        "\n",
        "    Example:\n",
        "        `v` is a tensor of shape `[10]` and `X` is a tensor of shape `[10, 3, 3]`.\n",
        "        We want to multiply each `[3, 3]` element of `X` by the corresponding\n",
        "        element of `v` to get a matrix `Y` of shape `[10, 3, 3]` such that\n",
        "        `Y[i, a, b] = v[i] * X[i, a, b]`.\n",
        "\n",
        "        `w = make_broadcastable(v, X)` gives a `w` of shape `[10, 1, 1]`,\n",
        "        and we can now broadcast `Y = w * X`.\n",
        "    \"\"\"\n",
        "    broadcasting_shape = (-1, *[1 for _ in X.shape[1:]])\n",
        "    return v.reshape(broadcasting_shape)"
      ]
    },
    {
      "cell_type": "code",
      "execution_count": 11,
      "metadata": {
        "id": "BzMQTOeZv3SE"
      },
      "outputs": [],
      "source": [
        "# Define the DP-SGD optimizer\n",
        "class DP_SGD(Optimizer):\n",
        "    def __init__(self, params, lr=0.1, max_norm=0.01, stddev=2.0):\n",
        "        self.lr = lr\n",
        "        self.max_norm = max_norm\n",
        "        self.stddev = stddev\n",
        "        super().__init__(params, dict())\n",
        "\n",
        "    def step(self):\n",
        "        l2_norms_all_params_list = []\n",
        "        for group in self.param_groups:\n",
        "            for p in group[\"params\"]:\n",
        "                l2_norms_all_params_list.append(p.batch_l2)\n",
        "\n",
        "        l2_norms_all_params = torch.stack(l2_norms_all_params_list)\n",
        "        total_norms = torch.sqrt(torch.sum(l2_norms_all_params, dim=0))\n",
        "        scaling_factors = torch.clamp_max(total_norms / self.max_norm, 1.0)\n",
        "\n",
        "        for group in self.param_groups:\n",
        "            for p in group[\"params\"]:\n",
        "                clipped_grads = p.grad_batch * make_broadcastable(\n",
        "                    scaling_factors, p.grad_batch\n",
        "                )\n",
        "                clipped_grad = torch.sum(clipped_grads, dim=0)\n",
        "\n",
        "                noise_magnitude = self.stddev * self.max_norm\n",
        "                noise = torch.randn_like(clipped_grad) * noise_magnitude\n",
        "\n",
        "                perturbed_update = clipped_grad + noise\n",
        "\n",
        "                p.data.add_(-self.lr * perturbed_update)"
      ]
    },
    {
      "cell_type": "code",
      "execution_count": 12,
      "metadata": {
        "id": "JSJi0F7KmXJr"
      },
      "outputs": [],
      "source": [
        "from sklearn.metrics import classification_report\n",
        "\n",
        "def train(net, trainloader, epochs: int, verbose=False):\n",
        "    \"\"\"Train the network on the training set.\"\"\"\n",
        "    criterion = torch.nn.CrossEntropyLoss()\n",
        "    optimizer = DP_SGD(net.parameters(), lr=0.02, max_norm=1.5, stddev=0.5)\n",
        "    net.train()\n",
        "    for epoch in range(epochs):\n",
        "        correct, total, epoch_loss = 0, 0, 0.0\n",
        "        for batch in trainloader:\n",
        "            fts, labels = batch[\"fts\"].to(DEVICE), batch[\"label\"].to(DEVICE)\n",
        "            optimizer.zero_grad()\n",
        "            outputs = net(fts)\n",
        "            loss = criterion(outputs, labels)\n",
        "            with backpack(BatchL2Grad(), BatchGrad()):\n",
        "                loss.backward()\n",
        "            optimizer.step()\n",
        "            # Metrics\n",
        "            epoch_loss += loss\n",
        "            total += labels.size(0)\n",
        "            correct += (torch.max(outputs.data, 1)[1] == labels).sum().item()\n",
        "        epoch_loss /= len(trainloader.dataset)\n",
        "        epoch_acc = correct / total\n",
        "        if verbose:\n",
        "            print(f\"Epoch {epoch+1}: train loss {epoch_loss}, accuracy {epoch_acc}\")\n",
        "\n",
        "\n",
        "def test(net, testloader):\n",
        "    \"\"\"Evaluate the network on the entire test set.\"\"\"\n",
        "    criterion = torch.nn.CrossEntropyLoss()\n",
        "    correct, total, loss = 0, 0, 0.0\n",
        "    net.eval()\n",
        "    y_true = []\n",
        "    y_pred = []\n",
        "    with torch.no_grad():\n",
        "        for batch in testloader:\n",
        "            fts, labels = batch[\"fts\"].to(DEVICE), batch[\"label\"].to(DEVICE)\n",
        "            outputs = net(fts)\n",
        "            loss += criterion(outputs, labels).item()\n",
        "            _, predicted = torch.max(outputs.data, 1)\n",
        "            total += labels.size(0)\n",
        "            correct += (predicted == labels).sum().item()\n",
        "\n",
        "            y_true.extend(labels.cpu().numpy())\n",
        "            y_pred.extend(predicted.cpu().numpy())\n",
        "\n",
        "    loss /= len(testloader.dataset)\n",
        "    accuracy = correct / total\n",
        "\n",
        "    # Compute precision, recall, f1-score\n",
        "    report = classification_report(y_true, y_pred, output_dict=True)\n",
        "    precision = report[\"weighted avg\"][\"precision\"]\n",
        "    recall = report[\"weighted avg\"][\"recall\"]\n",
        "    f1_score = report[\"weighted avg\"][\"f1-score\"]\n",
        "\n",
        "    return loss, accuracy, precision, recall, f1_score\n",
        "\n"
      ]
    },
    {
      "cell_type": "markdown",
      "metadata": {
        "id": "lNBzEbX0mZ9D"
      },
      "source": [
        "### Training the model"
      ]
    },
    {
      "cell_type": "code",
      "execution_count": 13,
      "metadata": {
        "colab": {
          "base_uri": "https://localhost:8080/"
        },
        "id": "bU0ZKV_fmbDc",
        "outputId": "eafea951-4b94-4d31-acea-d7f2163c6254"
      },
      "outputs": [
        {
          "output_type": "stream",
          "name": "stderr",
          "text": [
            "/usr/local/lib/python3.10/dist-packages/backpack/extensions/backprop_extension.py:106: UserWarning: Extension saving to batch_l2 does not have an extension for Module <class '__main__.Net'> although the module has parameters\n",
            "  warnings.warn(\n",
            "/usr/local/lib/python3.10/dist-packages/backpack/extensions/backprop_extension.py:106: UserWarning: Extension saving to grad_batch does not have an extension for Module <class '__main__.Net'> although the module has parameters\n",
            "  warnings.warn(\n"
          ]
        },
        {
          "output_type": "stream",
          "name": "stdout",
          "text": [
            "Epoch 1: validation loss 0.05956000440260943, accuracy 0.15769712140175218, precision 0.17034238828927828, recall 0.15769712140175218, f1-score 0.1548784416450213\n"
          ]
        },
        {
          "output_type": "stream",
          "name": "stderr",
          "text": [
            "/usr/local/lib/python3.10/dist-packages/backpack/extensions/backprop_extension.py:106: UserWarning: Extension saving to batch_l2 does not have an extension for Module <class '__main__.Net'> although the module has parameters\n",
            "  warnings.warn(\n",
            "/usr/local/lib/python3.10/dist-packages/backpack/extensions/backprop_extension.py:106: UserWarning: Extension saving to grad_batch does not have an extension for Module <class '__main__.Net'> although the module has parameters\n",
            "  warnings.warn(\n"
          ]
        },
        {
          "output_type": "stream",
          "name": "stdout",
          "text": [
            "Epoch 2: validation loss 0.03889668383198477, accuracy 0.5994993742177722, precision 0.5517168053059115, recall 0.5994993742177722, f1-score 0.5534618749072157\n"
          ]
        },
        {
          "output_type": "stream",
          "name": "stderr",
          "text": [
            "/usr/local/lib/python3.10/dist-packages/backpack/extensions/backprop_extension.py:106: UserWarning: Extension saving to batch_l2 does not have an extension for Module <class '__main__.Net'> although the module has parameters\n",
            "  warnings.warn(\n",
            "/usr/local/lib/python3.10/dist-packages/backpack/extensions/backprop_extension.py:106: UserWarning: Extension saving to grad_batch does not have an extension for Module <class '__main__.Net'> although the module has parameters\n",
            "  warnings.warn(\n"
          ]
        },
        {
          "output_type": "stream",
          "name": "stdout",
          "text": [
            "Epoch 3: validation loss 0.038606211375235316, accuracy 0.6182728410513142, precision 0.6467741907674771, recall 0.6182728410513142, f1-score 0.6064834681243321\n"
          ]
        },
        {
          "output_type": "stream",
          "name": "stderr",
          "text": [
            "/usr/local/lib/python3.10/dist-packages/backpack/extensions/backprop_extension.py:106: UserWarning: Extension saving to batch_l2 does not have an extension for Module <class '__main__.Net'> although the module has parameters\n",
            "  warnings.warn(\n",
            "/usr/local/lib/python3.10/dist-packages/backpack/extensions/backprop_extension.py:106: UserWarning: Extension saving to grad_batch does not have an extension for Module <class '__main__.Net'> although the module has parameters\n",
            "  warnings.warn(\n"
          ]
        },
        {
          "output_type": "stream",
          "name": "stdout",
          "text": [
            "Epoch 4: validation loss 0.048675740839393626, accuracy 0.688360450563204, precision 0.7163915644529024, recall 0.688360450563204, f1-score 0.6688334793365833\n"
          ]
        },
        {
          "output_type": "stream",
          "name": "stderr",
          "text": [
            "/usr/local/lib/python3.10/dist-packages/backpack/extensions/backprop_extension.py:106: UserWarning: Extension saving to batch_l2 does not have an extension for Module <class '__main__.Net'> although the module has parameters\n",
            "  warnings.warn(\n",
            "/usr/local/lib/python3.10/dist-packages/backpack/extensions/backprop_extension.py:106: UserWarning: Extension saving to grad_batch does not have an extension for Module <class '__main__.Net'> although the module has parameters\n",
            "  warnings.warn(\n"
          ]
        },
        {
          "output_type": "stream",
          "name": "stdout",
          "text": [
            "Epoch 5: validation loss 0.052937915089431783, accuracy 0.6420525657071339, precision 0.7080907564257976, recall 0.6420525657071339, f1-score 0.6249967303604961\n"
          ]
        },
        {
          "output_type": "stream",
          "name": "stderr",
          "text": [
            "/usr/local/lib/python3.10/dist-packages/backpack/extensions/backprop_extension.py:106: UserWarning: Extension saving to batch_l2 does not have an extension for Module <class '__main__.Net'> although the module has parameters\n",
            "  warnings.warn(\n",
            "/usr/local/lib/python3.10/dist-packages/backpack/extensions/backprop_extension.py:106: UserWarning: Extension saving to grad_batch does not have an extension for Module <class '__main__.Net'> although the module has parameters\n",
            "  warnings.warn(\n"
          ]
        },
        {
          "output_type": "stream",
          "name": "stdout",
          "text": [
            "Epoch 6: validation loss 0.053027408218503144, accuracy 0.6057571964956195, precision 0.6969001903130226, recall 0.6057571964956195, f1-score 0.5894891800948185\n"
          ]
        },
        {
          "output_type": "stream",
          "name": "stderr",
          "text": [
            "/usr/local/lib/python3.10/dist-packages/backpack/extensions/backprop_extension.py:106: UserWarning: Extension saving to batch_l2 does not have an extension for Module <class '__main__.Net'> although the module has parameters\n",
            "  warnings.warn(\n",
            "/usr/local/lib/python3.10/dist-packages/backpack/extensions/backprop_extension.py:106: UserWarning: Extension saving to grad_batch does not have an extension for Module <class '__main__.Net'> although the module has parameters\n",
            "  warnings.warn(\n"
          ]
        },
        {
          "output_type": "stream",
          "name": "stdout",
          "text": [
            "Epoch 7: validation loss 0.059501507479198586, accuracy 0.7359198998748435, precision 0.7372111037758425, recall 0.7359198998748435, f1-score 0.7048837704558426\n"
          ]
        },
        {
          "output_type": "stream",
          "name": "stderr",
          "text": [
            "/usr/local/lib/python3.10/dist-packages/backpack/extensions/backprop_extension.py:106: UserWarning: Extension saving to batch_l2 does not have an extension for Module <class '__main__.Net'> although the module has parameters\n",
            "  warnings.warn(\n",
            "/usr/local/lib/python3.10/dist-packages/backpack/extensions/backprop_extension.py:106: UserWarning: Extension saving to grad_batch does not have an extension for Module <class '__main__.Net'> although the module has parameters\n",
            "  warnings.warn(\n"
          ]
        },
        {
          "output_type": "stream",
          "name": "stdout",
          "text": [
            "Epoch 8: validation loss 0.05216668689802979, accuracy 0.7809762202753442, precision 0.8077303637660407, recall 0.7809762202753442, f1-score 0.7795886645256204\n"
          ]
        },
        {
          "output_type": "stream",
          "name": "stderr",
          "text": [
            "/usr/local/lib/python3.10/dist-packages/backpack/extensions/backprop_extension.py:106: UserWarning: Extension saving to batch_l2 does not have an extension for Module <class '__main__.Net'> although the module has parameters\n",
            "  warnings.warn(\n",
            "/usr/local/lib/python3.10/dist-packages/backpack/extensions/backprop_extension.py:106: UserWarning: Extension saving to grad_batch does not have an extension for Module <class '__main__.Net'> although the module has parameters\n",
            "  warnings.warn(\n"
          ]
        },
        {
          "output_type": "stream",
          "name": "stdout",
          "text": [
            "Epoch 9: validation loss 0.07536718040443631, accuracy 0.7359198998748435, precision 0.7696419161502227, recall 0.7359198998748435, f1-score 0.7270727178352059\n"
          ]
        },
        {
          "output_type": "stream",
          "name": "stderr",
          "text": [
            "/usr/local/lib/python3.10/dist-packages/backpack/extensions/backprop_extension.py:106: UserWarning: Extension saving to batch_l2 does not have an extension for Module <class '__main__.Net'> although the module has parameters\n",
            "  warnings.warn(\n",
            "/usr/local/lib/python3.10/dist-packages/backpack/extensions/backprop_extension.py:106: UserWarning: Extension saving to grad_batch does not have an extension for Module <class '__main__.Net'> although the module has parameters\n",
            "  warnings.warn(\n"
          ]
        },
        {
          "output_type": "stream",
          "name": "stdout",
          "text": [
            "Epoch 10: validation loss 0.06593123404717117, accuracy 0.7922403003754693, precision 0.8132778939247428, recall 0.7922403003754693, f1-score 0.7787300436446664\n",
            "Final test set performance:\n",
            "\tloss 0.0618668489777791\n",
            "\taccuracy 0.781563126252505\n",
            "\tprecision 0.7814086761897103\n",
            "\trecall 0.781563126252505\n",
            "\tf1-score 0.7717789439215675\n"
          ]
        }
      ],
      "source": [
        "trainloader = trainloaders[0]\n",
        "valloader = valloaders[0]\n",
        "net = Net().to(DEVICE)\n",
        "net = extend(net)\n",
        "\n",
        "for epoch in range(10):\n",
        "    train(net, trainloader, 1)\n",
        "    loss, accuracy, precision, recall, f1_score = test(net, valloader)\n",
        "    print(f\"Epoch {epoch+1}: validation loss {loss}, accuracy {accuracy}, precision {precision}, recall {recall}, f1-score {f1_score}\")\n",
        "\n",
        "loss, accuracy, precision, recall, f1_score = test(net, testloader)\n",
        "print(f\"Final test set performance:\\n\\tloss {loss}\\n\\taccuracy {accuracy}\\n\\tprecision {precision}\\n\\trecall {recall}\\n\\tf1-score {f1_score}\")"
      ]
    },
    {
      "cell_type": "markdown",
      "metadata": {
        "id": "VhsDQfPvmd7N"
      },
      "source": [
        "# **Federated Learning with Flower**"
      ]
    },
    {
      "cell_type": "markdown",
      "metadata": {
        "id": "SLyLY2-qmj47"
      },
      "source": [
        "### Updating model parameters"
      ]
    },
    {
      "cell_type": "code",
      "execution_count": 14,
      "metadata": {
        "id": "DRE1iaN2mg7m"
      },
      "outputs": [],
      "source": [
        "def set_parameters(net, parameters: List[np.ndarray]):\n",
        "    params_dict = zip(net.state_dict().keys(), parameters)\n",
        "    state_dict = OrderedDict({k: torch.Tensor(v) for k, v in params_dict})\n",
        "    net.load_state_dict(state_dict, strict=True)\n",
        "\n",
        "\n",
        "def get_parameters(net) -> List[np.ndarray]:\n",
        "    return [val.cpu().numpy() for _, val in net.state_dict().items()]"
      ]
    },
    {
      "cell_type": "markdown",
      "metadata": {
        "id": "OGUNwNlqmm0u"
      },
      "source": [
        "### Implementing a Flower client"
      ]
    },
    {
      "cell_type": "code",
      "execution_count": 15,
      "metadata": {
        "id": "pHv9Jqxsmo4O"
      },
      "outputs": [],
      "source": [
        "class FlowerClient(fl.client.NumPyClient):\n",
        "    def __init__(self, net, trainloader, valloader):\n",
        "        self.net = extend(net)\n",
        "        self.trainloader = trainloader\n",
        "        self.valloader = valloader\n",
        "\n",
        "    def get_parameters(self, config):\n",
        "        return get_parameters(self.net)\n",
        "\n",
        "    def fit(self, parameters, config):\n",
        "        set_parameters(self.net, parameters)\n",
        "        train(self.net, self.trainloader, epochs=10)\n",
        "        return get_parameters(self.net), len(self.trainloader), {}\n",
        "\n",
        "    def evaluate(self, parameters, config):\n",
        "        set_parameters(self.net, parameters)\n",
        "        loss, accuracy, precision, recall, f1_score = test(self.net, self.valloader)\n",
        "        metrics = {\n",
        "            \"accuracy\": float(accuracy),\n",
        "            \"precision\": float(precision),\n",
        "            \"recall\": float(recall),\n",
        "            \"f1-score\": float(f1_score)\n",
        "        }\n",
        "        with open(\"/content/drive/MyDrive/IDPS/fedavg-dp-sgd-multiclass-result4th.txt\", \"a\") as f:\n",
        "            f.write(f\"accuracy : {metrics['accuracy']}, precision : {metrics['precision']}, recall : {metrics['recall']}, F1-score : {metrics['f1-score']}\\n\")\n",
        "\n",
        "\n",
        "        return float(loss), len(self.valloader), {\"accuracy\": metrics[\"accuracy\"]}"
      ]
    },
    {
      "cell_type": "markdown",
      "metadata": {
        "id": "O3Z7lojZmtT4"
      },
      "source": [
        "### Using the Virtual Client Engine"
      ]
    },
    {
      "cell_type": "code",
      "execution_count": 16,
      "metadata": {
        "id": "KY_t_024mrme"
      },
      "outputs": [],
      "source": [
        "def client_fn(cid: str) -> FlowerClient:\n",
        "    # Load model\n",
        "    net = Net().to(DEVICE)\n",
        "\n",
        "    # Load data (You need to replace this part with your own data loading logic)\n",
        "    trainloader = trainloaders[int(cid)]\n",
        "    valloader = valloaders[int(cid)]\n",
        "\n",
        "    # Create a single Flower client representing a single organization\n",
        "    return FlowerClient(net, trainloader, valloader).to_client()"
      ]
    },
    {
      "cell_type": "markdown",
      "metadata": {
        "id": "57rnmKJumwEv"
      },
      "source": [
        "### Starting the training"
      ]
    },
    {
      "cell_type": "code",
      "execution_count": 17,
      "metadata": {
        "id": "C6seGlG2myl-"
      },
      "outputs": [],
      "source": [
        "# # Create FedAvg strategy\n",
        "# strategy = fl.server.strategy.FedAvg(\n",
        "#     fraction_fit=1.0,  # Sample 100% of available clients for training\n",
        "#     fraction_evaluate=0.5,  # Sample 50% of available clients for evaluation\n",
        "#     min_fit_clients=10,  # Never sample less than 10 clients for training\n",
        "#     min_evaluate_clients=5,  # Never sample less than 5 clients for evaluation\n",
        "#     min_available_clients=10,  # Wait until all 10 clients are available\n",
        "# )\n",
        "\n",
        "# # Specify the resources each of your clients need. By default, each\n",
        "# # client will be allocated 1x CPU and 0x GPUs\n",
        "# client_resources = {\"num_cpus\": 1, \"num_gpus\": 0.0}\n",
        "# if DEVICE.type == \"cuda\":\n",
        "#     # here we are assigning an entire GPU for each client.\n",
        "#     client_resources = {\"num_cpus\": 1, \"num_gpus\": 1.0}\n",
        "#     # Refer to our documentation for more details about Flower Simulations\n",
        "#     # and how to setup these `client_resources`.\n",
        "\n",
        "# # Start simulation\n",
        "# fl.simulation.start_simulation(\n",
        "#     client_fn=client_fn,\n",
        "#     num_clients=NUM_CLIENTS,\n",
        "#     config=fl.server.ServerConfig(num_rounds=5),\n",
        "#     strategy=strategy,\n",
        "#     client_resources=client_resources,\n",
        "# )"
      ]
    },
    {
      "cell_type": "markdown",
      "metadata": {
        "id": "UX-tyr_6m1O6"
      },
      "source": [
        "### Evaluate"
      ]
    },
    {
      "cell_type": "code",
      "execution_count": 18,
      "metadata": {
        "id": "c7RQd1BOm4XD"
      },
      "outputs": [],
      "source": [
        "def weighted_average(metrics: List[Tuple[int, Metrics]]) -> Metrics:\n",
        "    # Multiply accuracy, precision, recall, and f1-score of each client by number of examples used\n",
        "    accuracies = [num_examples * m[\"accuracy\"] for num_examples, m in metrics]\n",
        "    precisions = [num_examples * m[\"precision\"] for num_examples, m in metrics]\n",
        "    recalls = [num_examples * m[\"recall\"] for num_examples, m in metrics]\n",
        "    f1_scores = [num_examples * m[\"f1-score\"] for num_examples, m in metrics]\n",
        "\n",
        "    examples = [num_examples for num_examples, _ in metrics]\n",
        "\n",
        "    # Aggregate and return custom metrics (weighted average)\n",
        "    weighted_avg = {\n",
        "        \"accuracy\": sum(accuracies) / sum(examples),\n",
        "        \"precision\": sum(precisions) / sum(examples),\n",
        "        \"recall\": sum(recalls) / sum(examples),\n",
        "        \"f1-score\": sum(f1_scores) / sum(examples)\n",
        "    }\n",
        "    # with open(\"/content/drive/MyDrive/Colab Notebooks/data/NF-ToN-IoT-v2/fedavg-multiclass-result.txt\", \"a\") as f:\n",
        "    #     f.write(f\"accuracy : {weighted_avg['accuracy']}, precision : {weighted_avg['precision']}, recall : {weighted_avg['recall']}, F1-score : {weighted_avg['f1-score']}\\n\")\n",
        "\n",
        "    # Return the aggregated metrics\n",
        "    return {\"metrics\": weighted_avg}"
      ]
    },
    {
      "cell_type": "code",
      "execution_count": 19,
      "metadata": {
        "id": "NktfWuADf7hD"
      },
      "outputs": [],
      "source": [
        "from logging import WARNING\n",
        "from typing import Callable, Dict, List, Optional, Tuple, Union\n",
        "\n",
        "from flwr.common import (\n",
        "    EvaluateIns,\n",
        "    EvaluateRes,\n",
        "    FitIns,\n",
        "    FitRes,\n",
        "    MetricsAggregationFn,\n",
        "    NDArrays,\n",
        "    Parameters,\n",
        "    Scalar,\n",
        "    ndarrays_to_parameters,\n",
        "    parameters_to_ndarrays,\n",
        ")\n",
        "from flwr.common.logger import log\n",
        "from flwr.server.client_manager import ClientManager\n",
        "from flwr.server.client_proxy import ClientProxy\n",
        "\n",
        "from flwr.server.strategy.aggregate import aggregate, aggregate_inplace, weighted_loss_avg\n",
        "from flwr.server.strategy import Strategy\n",
        "\n",
        "WARNING_MIN_AVAILABLE_CLIENTS_TOO_LOW = \"\"\"\n",
        "Setting `min_available_clients` lower than `min_fit_clients` or\n",
        "`min_evaluate_clients` can cause the server to fail when there are too few clients\n",
        "connected to the server. `min_available_clients` must be set to a value larger\n",
        "than or equal to the values of `min_fit_clients` and `min_evaluate_clients`.\n",
        "\"\"\"\n",
        "\n",
        "\n",
        "# pylint: disable=line-too-long\n",
        "class FedAvg(Strategy):\n",
        "    \"\"\"Federated Averaging strategy.\n",
        "    \"\"\"\n",
        "\n",
        "    # pylint: disable=too-many-arguments,too-many-instance-attributes, line-too-long\n",
        "    def __init__(\n",
        "        self,\n",
        "        *,\n",
        "        fraction_fit: float = 1.0,\n",
        "        fraction_evaluate: float = 1.0,\n",
        "        min_fit_clients: int = 2,\n",
        "        min_evaluate_clients: int = 2,\n",
        "        min_available_clients: int = 2,\n",
        "        evaluate_fn: Optional[\n",
        "            Callable[\n",
        "                [int, NDArrays, Dict[str, Scalar]],\n",
        "                Optional[Tuple[float, Dict[str, Scalar]]],\n",
        "            ]\n",
        "        ] = None,\n",
        "        on_fit_config_fn: Optional[Callable[[int], Dict[str, Scalar]]] = None,\n",
        "        on_evaluate_config_fn: Optional[Callable[[int], Dict[str, Scalar]]] = None,\n",
        "        accept_failures: bool = True,\n",
        "        initial_parameters: Optional[Parameters] = None,\n",
        "        fit_metrics_aggregation_fn: Optional[MetricsAggregationFn] = None,\n",
        "        evaluate_metrics_aggregation_fn: Optional[MetricsAggregationFn] = None,\n",
        "        inplace: bool = True,\n",
        "    ) -> None:\n",
        "        super().__init__()\n",
        "\n",
        "        if (\n",
        "            min_fit_clients > min_available_clients\n",
        "            or min_evaluate_clients > min_available_clients\n",
        "        ):\n",
        "            log(WARNING, WARNING_MIN_AVAILABLE_CLIENTS_TOO_LOW)\n",
        "\n",
        "        self.fraction_fit = fraction_fit\n",
        "        self.fraction_evaluate = fraction_evaluate\n",
        "        self.min_fit_clients = min_fit_clients\n",
        "        self.min_evaluate_clients = min_evaluate_clients\n",
        "        self.min_available_clients = min_available_clients\n",
        "        self.evaluate_fn = evaluate_fn\n",
        "        self.on_fit_config_fn = on_fit_config_fn\n",
        "        self.on_evaluate_config_fn = on_evaluate_config_fn\n",
        "        self.accept_failures = accept_failures\n",
        "        self.initial_parameters = initial_parameters\n",
        "        self.fit_metrics_aggregation_fn = fit_metrics_aggregation_fn\n",
        "        self.evaluate_metrics_aggregation_fn = evaluate_metrics_aggregation_fn\n",
        "        self.inplace = inplace\n",
        "\n",
        "    def __repr__(self) -> str:\n",
        "        \"\"\"Compute a string representation of the strategy.\"\"\"\n",
        "        rep = f\"FedAvg(accept_failures={self.accept_failures})\"\n",
        "        return rep\n",
        "\n",
        "    def num_fit_clients(self, num_available_clients: int) -> Tuple[int, int]:\n",
        "        \"\"\"Return the sample size and the required number of available clients.\"\"\"\n",
        "        num_clients = int(num_available_clients * self.fraction_fit)\n",
        "        return max(num_clients, self.min_fit_clients), self.min_available_clients\n",
        "\n",
        "    def num_evaluation_clients(self, num_available_clients: int) -> Tuple[int, int]:\n",
        "        \"\"\"Use a fraction of available clients for evaluation.\"\"\"\n",
        "        num_clients = int(num_available_clients * self.fraction_evaluate)\n",
        "        return max(num_clients, self.min_evaluate_clients), self.min_available_clients\n",
        "\n",
        "    def initialize_parameters(\n",
        "        self, client_manager: ClientManager\n",
        "    ) -> Optional[Parameters]:\n",
        "        \"\"\"Initialize global model parameters.\"\"\"\n",
        "        initial_parameters = self.initial_parameters\n",
        "        self.initial_parameters = None  # Don't keep initial parameters in memory\n",
        "        return initial_parameters\n",
        "\n",
        "    def evaluate(\n",
        "        self, server_round: int, parameters: Parameters\n",
        "    ) -> Optional[Tuple[float, Dict[str, Scalar]]]:\n",
        "        \"\"\"Evaluate model parameters using an evaluation function.\"\"\"\n",
        "        if self.evaluate_fn is None:\n",
        "            # No evaluation function provided\n",
        "            return None\n",
        "        parameters_ndarrays = parameters_to_ndarrays(parameters)\n",
        "        eval_res = self.evaluate_fn(server_round, parameters_ndarrays, {})\n",
        "        if eval_res is None:\n",
        "            return None\n",
        "        loss, metrics = eval_res\n",
        "        return loss, metrics\n",
        "\n",
        "    def configure_fit(\n",
        "        self, server_round: int, parameters: Parameters, client_manager: ClientManager\n",
        "    ) -> List[Tuple[ClientProxy, FitIns]]:\n",
        "        \"\"\"Configure the next round of training.\"\"\"\n",
        "        config = {}\n",
        "        if self.on_fit_config_fn is not None:\n",
        "            # Custom fit config function provided\n",
        "            config = self.on_fit_config_fn(server_round)\n",
        "        fit_ins = FitIns(parameters, config)\n",
        "\n",
        "        # Sample clients\n",
        "        sample_size, min_num_clients = self.num_fit_clients(\n",
        "            client_manager.num_available()\n",
        "        )\n",
        "        clients = client_manager.sample(\n",
        "            num_clients=sample_size, min_num_clients=min_num_clients\n",
        "        )\n",
        "\n",
        "        # Return client/config pairs\n",
        "        return [(client, fit_ins) for client in clients]\n",
        "\n",
        "    def configure_evaluate(\n",
        "        self, server_round: int, parameters: Parameters, client_manager: ClientManager\n",
        "    ) -> List[Tuple[ClientProxy, EvaluateIns]]:\n",
        "        \"\"\"Configure the next round of evaluation.\"\"\"\n",
        "        # Do not configure federated evaluation if fraction eval is 0.\n",
        "        if self.fraction_evaluate == 0.0:\n",
        "            return []\n",
        "\n",
        "        # Parameters and config\n",
        "        config = {}\n",
        "        if self.on_evaluate_config_fn is not None:\n",
        "            # Custom evaluation config function provided\n",
        "            config = self.on_evaluate_config_fn(server_round)\n",
        "        evaluate_ins = EvaluateIns(parameters, config)\n",
        "\n",
        "        # Sample clients\n",
        "        sample_size, min_num_clients = self.num_evaluation_clients(\n",
        "            client_manager.num_available()\n",
        "        )\n",
        "        clients = client_manager.sample(\n",
        "            num_clients=sample_size, min_num_clients=min_num_clients\n",
        "        )\n",
        "\n",
        "        # Return client/config pairs\n",
        "        return [(client, evaluate_ins) for client in clients]\n",
        "\n",
        "    def aggregate_fit(\n",
        "        self,\n",
        "        server_round: int,\n",
        "        results: List[Tuple[ClientProxy, FitRes]],\n",
        "        failures: List[Union[Tuple[ClientProxy, FitRes], BaseException]],\n",
        "    ) -> Tuple[Optional[Parameters], Dict[str, Scalar]]:\n",
        "        \"\"\"Aggregate fit results using weighted average.\"\"\"\n",
        "        if not results:\n",
        "            return None, {}\n",
        "        # Do not aggregate if there are failures and failures are not accepted\n",
        "        if not self.accept_failures and failures:\n",
        "            return None, {}\n",
        "\n",
        "        if self.inplace:\n",
        "            # Does in-place weighted average of results\n",
        "            aggregated_ndarrays = aggregate_inplace(results)\n",
        "        else:\n",
        "            # Convert results\n",
        "            weights_results = [\n",
        "                (parameters_to_ndarrays(fit_res.parameters), fit_res.num_examples)\n",
        "                for _, fit_res in results\n",
        "            ]\n",
        "            aggregated_ndarrays = aggregate(weights_results)\n",
        "\n",
        "        parameters_aggregated = ndarrays_to_parameters(aggregated_ndarrays)\n",
        "\n",
        "        # Aggregate custom metrics if aggregation fn was provided\n",
        "        metrics_aggregated = {}\n",
        "        if self.fit_metrics_aggregation_fn:\n",
        "            fit_metrics = [(res.num_examples, res.metrics) for _, res in results]\n",
        "            metrics_aggregated = self.fit_metrics_aggregation_fn(fit_metrics)\n",
        "        elif server_round == 1:  # Only log this warning once\n",
        "            log(WARNING, \"No fit_metrics_aggregation_fn provided\")\n",
        "\n",
        "        return parameters_aggregated, metrics_aggregated\n",
        "\n",
        "    def aggregate_evaluate(\n",
        "        self,\n",
        "        server_round: int,\n",
        "        results: List[Tuple[ClientProxy, EvaluateRes]],\n",
        "        failures: List[Union[Tuple[ClientProxy, EvaluateRes], BaseException]],\n",
        "    ) -> Tuple[Optional[float], Dict[str, Scalar]]:\n",
        "        \"\"\"Aggregate evaluation losses using weighted average.\"\"\"\n",
        "        if not results:\n",
        "            return None, {}\n",
        "        # Do not aggregate if there are failures and failures are not accepted\n",
        "        if not self.accept_failures and failures:\n",
        "            return None, {}\n",
        "\n",
        "        num_examples_total = sum(evaluate_res.num_examples for _, evaluate_res in results)\n",
        "\n",
        "        loss_aggregated = weighted_loss_avg(\n",
        "            [\n",
        "                (evaluate_res.num_examples, evaluate_res.loss)\n",
        "                for _, evaluate_res in results\n",
        "            ]\n",
        "        )\n",
        "        # Aggregate metrics\n",
        "        metrics = {\n",
        "            \"accuracy\": 0.0\n",
        "        }\n",
        "        for _, evaluate_res in results:\n",
        "            metrics_client = evaluate_res.metrics\n",
        "            num_examples_client = evaluate_res.num_examples\n",
        "\n",
        "            metrics[\"accuracy\"] += num_examples_client * metrics_client[\"accuracy\"]\n",
        "\n",
        "        metrics[\"accuracy\"] /= num_examples_total\n",
        "\n",
        "        return loss_aggregated, metrics"
      ]
    },
    {
      "cell_type": "code",
      "execution_count": 20,
      "metadata": {
        "colab": {
          "base_uri": "https://localhost:8080/"
        },
        "id": "BB5KrwYYm59S",
        "outputId": "0e3e323d-8abc-4169-dc37-db7cfdb4065f"
      },
      "outputs": [
        {
          "output_type": "stream",
          "name": "stderr",
          "text": [
            "\u001b[92mINFO \u001b[0m:      Starting Flower simulation, config: num_rounds=10, no round_timeout\n",
            "INFO:flwr:Starting Flower simulation, config: num_rounds=10, no round_timeout\n",
            "/usr/lib/python3.10/subprocess.py:1796: RuntimeWarning: os.fork() was called. os.fork() is incompatible with multithreaded code, and JAX is multithreaded, so this will likely lead to a deadlock.\n",
            "  self.pid = _posixsubprocess.fork_exec(\n",
            "2024-05-12 09:39:46,527\tINFO worker.py:1621 -- Started a local Ray instance.\n",
            "\u001b[92mINFO \u001b[0m:      Flower VCE: Ray initialized with resources: {'CPU': 2.0, 'memory': 7909837211.0, 'object_store_memory': 3954918604.0, 'node:172.28.0.12': 1.0, 'node:__internal_head__': 1.0}\n",
            "INFO:flwr:Flower VCE: Ray initialized with resources: {'CPU': 2.0, 'memory': 7909837211.0, 'object_store_memory': 3954918604.0, 'node:172.28.0.12': 1.0, 'node:__internal_head__': 1.0}\n",
            "\u001b[92mINFO \u001b[0m:      Optimize your simulation with Flower VCE: https://flower.ai/docs/framework/how-to-run-simulations.html\n",
            "INFO:flwr:Optimize your simulation with Flower VCE: https://flower.ai/docs/framework/how-to-run-simulations.html\n",
            "\u001b[92mINFO \u001b[0m:      Flower VCE: Resources for each Virtual Client: {'num_cpus': 1, 'num_gpus': 0.0}\n",
            "INFO:flwr:Flower VCE: Resources for each Virtual Client: {'num_cpus': 1, 'num_gpus': 0.0}\n",
            "\u001b[92mINFO \u001b[0m:      Flower VCE: Creating VirtualClientEngineActorPool with 2 actors\n",
            "INFO:flwr:Flower VCE: Creating VirtualClientEngineActorPool with 2 actors\n",
            "\u001b[92mINFO \u001b[0m:      [INIT]\n",
            "INFO:flwr:[INIT]\n",
            "\u001b[92mINFO \u001b[0m:      Requesting initial parameters from one random client\n",
            "INFO:flwr:Requesting initial parameters from one random client\n",
            "\u001b[2m\u001b[36m(pid=2192)\u001b[0m 2024-05-12 09:39:55.239199: E external/local_xla/xla/stream_executor/cuda/cuda_dnn.cc:9261] Unable to register cuDNN factory: Attempting to register factory for plugin cuDNN when one has already been registered\n",
            "\u001b[2m\u001b[36m(pid=2192)\u001b[0m 2024-05-12 09:39:55.239297: E external/local_xla/xla/stream_executor/cuda/cuda_fft.cc:607] Unable to register cuFFT factory: Attempting to register factory for plugin cuFFT when one has already been registered\n",
            "\u001b[2m\u001b[36m(pid=2192)\u001b[0m 2024-05-12 09:39:55.243370: E external/local_xla/xla/stream_executor/cuda/cuda_blas.cc:1515] Unable to register cuBLAS factory: Attempting to register factory for plugin cuBLAS when one has already been registered\n",
            "\u001b[2m\u001b[36m(pid=2192)\u001b[0m 2024-05-12 09:39:59.939632: W tensorflow/compiler/tf2tensorrt/utils/py_utils.cc:38] TF-TRT Warning: Could not find TensorRT\n",
            "\u001b[2m\u001b[36m(pid=2193)\u001b[0m 2024-05-12 09:39:55.825649: E external/local_xla/xla/stream_executor/cuda/cuda_dnn.cc:9261] Unable to register cuDNN factory: Attempting to register factory for plugin cuDNN when one has already been registered\n",
            "\u001b[2m\u001b[36m(pid=2193)\u001b[0m 2024-05-12 09:39:55.825742: E external/local_xla/xla/stream_executor/cuda/cuda_fft.cc:607] Unable to register cuFFT factory: Attempting to register factory for plugin cuFFT when one has already been registered\n",
            "\u001b[2m\u001b[36m(pid=2193)\u001b[0m 2024-05-12 09:39:55.831777: E external/local_xla/xla/stream_executor/cuda/cuda_blas.cc:1515] Unable to register cuBLAS factory: Attempting to register factory for plugin cuBLAS when one has already been registered\n",
            "\u001b[92mINFO \u001b[0m:      Received initial parameters from one random client\n",
            "INFO:flwr:Received initial parameters from one random client\n",
            "\u001b[92mINFO \u001b[0m:      Evaluating initial global parameters\n",
            "INFO:flwr:Evaluating initial global parameters\n",
            "\u001b[92mINFO \u001b[0m:      \n",
            "INFO:flwr:\n",
            "\u001b[92mINFO \u001b[0m:      [ROUND 1]\n",
            "INFO:flwr:[ROUND 1]\n",
            "\u001b[92mINFO \u001b[0m:      configure_fit: strategy sampled 10 clients (out of 50)\n",
            "INFO:flwr:configure_fit: strategy sampled 10 clients (out of 50)\n",
            "\u001b[2m\u001b[36m(ClientAppActor pid=2193)\u001b[0m /usr/local/lib/python3.10/dist-packages/backpack/extensions/backprop_extension.py:106: UserWarning: Extension saving to batch_l2 does not have an extension for Module <class '__main__.Net'> although the module has parameters\n",
            "\u001b[2m\u001b[36m(ClientAppActor pid=2193)\u001b[0m   warnings.warn(\n",
            "\u001b[2m\u001b[36m(ClientAppActor pid=2193)\u001b[0m /usr/local/lib/python3.10/dist-packages/backpack/extensions/backprop_extension.py:106: UserWarning: Extension saving to grad_batch does not have an extension for Module <class '__main__.Net'> although the module has parameters\n",
            "\u001b[2m\u001b[36m(ClientAppActor pid=2193)\u001b[0m   warnings.warn(\n",
            "\u001b[2m\u001b[36m(pid=2193)\u001b[0m 2024-05-12 09:40:01.057103: W tensorflow/compiler/tf2tensorrt/utils/py_utils.cc:38] TF-TRT Warning: Could not find TensorRT\n",
            "\u001b[2m\u001b[36m(ClientAppActor pid=2192)\u001b[0m /usr/local/lib/python3.10/dist-packages/backpack/extensions/backprop_extension.py:106: UserWarning: Extension saving to batch_l2 does not have an extension for Module <class '__main__.Net'> although the module has parameters\n",
            "\u001b[2m\u001b[36m(ClientAppActor pid=2192)\u001b[0m   warnings.warn(\u001b[32m [repeated 2x across cluster] (Ray deduplicates logs by default. Set RAY_DEDUP_LOGS=0 to disable log deduplication, or see https://docs.ray.io/en/master/ray-observability/ray-logging.html#log-deduplication for more options.)\u001b[0m\n",
            "\u001b[2m\u001b[36m(ClientAppActor pid=2192)\u001b[0m /usr/local/lib/python3.10/dist-packages/backpack/extensions/backprop_extension.py:106: UserWarning: Extension saving to grad_batch does not have an extension for Module <class '__main__.Net'> although the module has parameters\n",
            "\u001b[92mINFO \u001b[0m:      aggregate_fit: received 10 results and 0 failures\n",
            "INFO:flwr:aggregate_fit: received 10 results and 0 failures\n",
            "\u001b[93mWARNING \u001b[0m:   No fit_metrics_aggregation_fn provided\n",
            "WARNING:flwr:No fit_metrics_aggregation_fn provided\n",
            "\u001b[92mINFO \u001b[0m:      configure_evaluate: strategy sampled 5 clients (out of 50)\n",
            "INFO:flwr:configure_evaluate: strategy sampled 5 clients (out of 50)\n",
            "\u001b[2m\u001b[36m(ClientAppActor pid=2193)\u001b[0m /usr/local/lib/python3.10/dist-packages/sklearn/metrics/_classification.py:1344: UndefinedMetricWarning: Precision and F-score are ill-defined and being set to 0.0 in labels with no predicted samples. Use `zero_division` parameter to control this behavior.\n",
            "\u001b[2m\u001b[36m(ClientAppActor pid=2193)\u001b[0m   _warn_prf(average, modifier, msg_start, len(result))\n",
            "\u001b[2m\u001b[36m(ClientAppActor pid=2193)\u001b[0m /usr/local/lib/python3.10/dist-packages/sklearn/metrics/_classification.py:1344: UndefinedMetricWarning: Precision and F-score are ill-defined and being set to 0.0 in labels with no predicted samples. Use `zero_division` parameter to control this behavior.\n",
            "\u001b[2m\u001b[36m(ClientAppActor pid=2193)\u001b[0m   _warn_prf(average, modifier, msg_start, len(result))\n",
            "\u001b[2m\u001b[36m(ClientAppActor pid=2193)\u001b[0m /usr/local/lib/python3.10/dist-packages/sklearn/metrics/_classification.py:1344: UndefinedMetricWarning: Precision and F-score are ill-defined and being set to 0.0 in labels with no predicted samples. Use `zero_division` parameter to control this behavior.\n",
            "\u001b[2m\u001b[36m(ClientAppActor pid=2193)\u001b[0m   _warn_prf(average, modifier, msg_start, len(result))\n",
            "\u001b[92mINFO \u001b[0m:      aggregate_evaluate: received 5 results and 0 failures\n",
            "INFO:flwr:aggregate_evaluate: received 5 results and 0 failures\n",
            "\u001b[92mINFO \u001b[0m:      \n",
            "INFO:flwr:\n",
            "\u001b[92mINFO \u001b[0m:      [ROUND 2]\n",
            "INFO:flwr:[ROUND 2]\n",
            "\u001b[92mINFO \u001b[0m:      configure_fit: strategy sampled 10 clients (out of 50)\n",
            "INFO:flwr:configure_fit: strategy sampled 10 clients (out of 50)\n",
            "\u001b[2m\u001b[36m(ClientAppActor pid=2192)\u001b[0m /usr/local/lib/python3.10/dist-packages/backpack/extensions/backprop_extension.py:106: UserWarning: Extension saving to batch_l2 does not have an extension for Module <class '__main__.Net'> although the module has parameters\n",
            "\u001b[2m\u001b[36m(ClientAppActor pid=2192)\u001b[0m   warnings.warn(\n",
            "\u001b[2m\u001b[36m(ClientAppActor pid=2192)\u001b[0m /usr/local/lib/python3.10/dist-packages/backpack/extensions/backprop_extension.py:106: UserWarning: Extension saving to grad_batch does not have an extension for Module <class '__main__.Net'> although the module has parameters\n",
            "\u001b[2m\u001b[36m(ClientAppActor pid=2192)\u001b[0m   warnings.warn(\n",
            "\u001b[2m\u001b[36m(ClientAppActor pid=2193)\u001b[0m /usr/local/lib/python3.10/dist-packages/backpack/extensions/backprop_extension.py:106: UserWarning: Extension saving to batch_l2 does not have an extension for Module <class '__main__.Net'> although the module has parameters\n",
            "\u001b[2m\u001b[36m(ClientAppActor pid=2193)\u001b[0m   warnings.warn(\u001b[32m [repeated 2x across cluster]\u001b[0m\n",
            "\u001b[2m\u001b[36m(ClientAppActor pid=2193)\u001b[0m /usr/local/lib/python3.10/dist-packages/backpack/extensions/backprop_extension.py:106: UserWarning: Extension saving to grad_batch does not have an extension for Module <class '__main__.Net'> although the module has parameters\n",
            "\u001b[92mINFO \u001b[0m:      aggregate_fit: received 10 results and 0 failures\n",
            "INFO:flwr:aggregate_fit: received 10 results and 0 failures\n",
            "\u001b[92mINFO \u001b[0m:      configure_evaluate: strategy sampled 5 clients (out of 50)\n",
            "INFO:flwr:configure_evaluate: strategy sampled 5 clients (out of 50)\n",
            "\u001b[2m\u001b[36m(ClientAppActor pid=2193)\u001b[0m /usr/local/lib/python3.10/dist-packages/sklearn/metrics/_classification.py:1344: UndefinedMetricWarning: Precision and F-score are ill-defined and being set to 0.0 in labels with no predicted samples. Use `zero_division` parameter to control this behavior.\n",
            "\u001b[2m\u001b[36m(ClientAppActor pid=2193)\u001b[0m   _warn_prf(average, modifier, msg_start, len(result))\n",
            "\u001b[2m\u001b[36m(ClientAppActor pid=2193)\u001b[0m /usr/local/lib/python3.10/dist-packages/sklearn/metrics/_classification.py:1344: UndefinedMetricWarning: Precision and F-score are ill-defined and being set to 0.0 in labels with no predicted samples. Use `zero_division` parameter to control this behavior.\n",
            "\u001b[2m\u001b[36m(ClientAppActor pid=2193)\u001b[0m   _warn_prf(average, modifier, msg_start, len(result))\n",
            "\u001b[2m\u001b[36m(ClientAppActor pid=2193)\u001b[0m /usr/local/lib/python3.10/dist-packages/sklearn/metrics/_classification.py:1344: UndefinedMetricWarning: Precision and F-score are ill-defined and being set to 0.0 in labels with no predicted samples. Use `zero_division` parameter to control this behavior.\n",
            "\u001b[2m\u001b[36m(ClientAppActor pid=2193)\u001b[0m   _warn_prf(average, modifier, msg_start, len(result))\n",
            "\u001b[2m\u001b[36m(ClientAppActor pid=2192)\u001b[0m /usr/local/lib/python3.10/dist-packages/sklearn/metrics/_classification.py:1344: UndefinedMetricWarning: Precision and F-score are ill-defined and being set to 0.0 in labels with no predicted samples. Use `zero_division` parameter to control this behavior.\u001b[32m [repeated 3x across cluster]\u001b[0m\n",
            "\u001b[2m\u001b[36m(ClientAppActor pid=2192)\u001b[0m   _warn_prf(average, modifier, msg_start, len(result))\u001b[32m [repeated 3x across cluster]\u001b[0m\n",
            "\u001b[92mINFO \u001b[0m:      aggregate_evaluate: received 5 results and 0 failures\n",
            "INFO:flwr:aggregate_evaluate: received 5 results and 0 failures\n",
            "\u001b[92mINFO \u001b[0m:      \n",
            "INFO:flwr:\n",
            "\u001b[92mINFO \u001b[0m:      [ROUND 3]\n",
            "INFO:flwr:[ROUND 3]\n",
            "\u001b[92mINFO \u001b[0m:      configure_fit: strategy sampled 10 clients (out of 50)\n",
            "INFO:flwr:configure_fit: strategy sampled 10 clients (out of 50)\n",
            "\u001b[2m\u001b[36m(ClientAppActor pid=2193)\u001b[0m /usr/local/lib/python3.10/dist-packages/sklearn/metrics/_classification.py:1344: UndefinedMetricWarning: Precision and F-score are ill-defined and being set to 0.0 in labels with no predicted samples. Use `zero_division` parameter to control this behavior.\u001b[32m [repeated 3x across cluster]\u001b[0m\n",
            "\u001b[2m\u001b[36m(ClientAppActor pid=2193)\u001b[0m   _warn_prf(average, modifier, msg_start, len(result))\u001b[32m [repeated 3x across cluster]\u001b[0m\n",
            "\u001b[2m\u001b[36m(ClientAppActor pid=2193)\u001b[0m /usr/local/lib/python3.10/dist-packages/backpack/extensions/backprop_extension.py:106: UserWarning: Extension saving to batch_l2 does not have an extension for Module <class '__main__.Net'> although the module has parameters\n",
            "\u001b[2m\u001b[36m(ClientAppActor pid=2193)\u001b[0m   warnings.warn(\n",
            "\u001b[2m\u001b[36m(ClientAppActor pid=2193)\u001b[0m /usr/local/lib/python3.10/dist-packages/backpack/extensions/backprop_extension.py:106: UserWarning: Extension saving to grad_batch does not have an extension for Module <class '__main__.Net'> although the module has parameters\n",
            "\u001b[2m\u001b[36m(ClientAppActor pid=2193)\u001b[0m   warnings.warn(\n",
            "\u001b[2m\u001b[36m(ClientAppActor pid=2192)\u001b[0m /usr/local/lib/python3.10/dist-packages/backpack/extensions/backprop_extension.py:106: UserWarning: Extension saving to batch_l2 does not have an extension for Module <class '__main__.Net'> although the module has parameters\n",
            "\u001b[2m\u001b[36m(ClientAppActor pid=2192)\u001b[0m   warnings.warn(\u001b[32m [repeated 2x across cluster]\u001b[0m\n",
            "\u001b[2m\u001b[36m(ClientAppActor pid=2192)\u001b[0m /usr/local/lib/python3.10/dist-packages/backpack/extensions/backprop_extension.py:106: UserWarning: Extension saving to grad_batch does not have an extension for Module <class '__main__.Net'> although the module has parameters\n",
            "\u001b[92mINFO \u001b[0m:      aggregate_fit: received 10 results and 0 failures\n",
            "INFO:flwr:aggregate_fit: received 10 results and 0 failures\n",
            "\u001b[92mINFO \u001b[0m:      configure_evaluate: strategy sampled 5 clients (out of 50)\n",
            "INFO:flwr:configure_evaluate: strategy sampled 5 clients (out of 50)\n",
            "\u001b[2m\u001b[36m(ClientAppActor pid=2192)\u001b[0m /usr/local/lib/python3.10/dist-packages/sklearn/metrics/_classification.py:1344: UndefinedMetricWarning: Precision and F-score are ill-defined and being set to 0.0 in labels with no predicted samples. Use `zero_division` parameter to control this behavior.\n",
            "\u001b[2m\u001b[36m(ClientAppActor pid=2192)\u001b[0m   _warn_prf(average, modifier, msg_start, len(result))\n",
            "\u001b[2m\u001b[36m(ClientAppActor pid=2192)\u001b[0m /usr/local/lib/python3.10/dist-packages/sklearn/metrics/_classification.py:1344: UndefinedMetricWarning: Precision and F-score are ill-defined and being set to 0.0 in labels with no predicted samples. Use `zero_division` parameter to control this behavior.\n",
            "\u001b[2m\u001b[36m(ClientAppActor pid=2192)\u001b[0m   _warn_prf(average, modifier, msg_start, len(result))\n",
            "\u001b[2m\u001b[36m(ClientAppActor pid=2192)\u001b[0m /usr/local/lib/python3.10/dist-packages/sklearn/metrics/_classification.py:1344: UndefinedMetricWarning: Precision and F-score are ill-defined and being set to 0.0 in labels with no predicted samples. Use `zero_division` parameter to control this behavior.\n",
            "\u001b[2m\u001b[36m(ClientAppActor pid=2192)\u001b[0m   _warn_prf(average, modifier, msg_start, len(result))\n",
            "\u001b[92mINFO \u001b[0m:      aggregate_evaluate: received 5 results and 0 failures\n",
            "INFO:flwr:aggregate_evaluate: received 5 results and 0 failures\n",
            "\u001b[92mINFO \u001b[0m:      \n",
            "INFO:flwr:\n",
            "\u001b[92mINFO \u001b[0m:      [ROUND 4]\n",
            "INFO:flwr:[ROUND 4]\n",
            "\u001b[92mINFO \u001b[0m:      configure_fit: strategy sampled 10 clients (out of 50)\n",
            "INFO:flwr:configure_fit: strategy sampled 10 clients (out of 50)\n",
            "\u001b[2m\u001b[36m(ClientAppActor pid=2192)\u001b[0m /usr/local/lib/python3.10/dist-packages/sklearn/metrics/_classification.py:1344: UndefinedMetricWarning: Precision and F-score are ill-defined and being set to 0.0 in labels with no predicted samples. Use `zero_division` parameter to control this behavior.\n",
            "\u001b[2m\u001b[36m(ClientAppActor pid=2192)\u001b[0m   _warn_prf(average, modifier, msg_start, len(result))\n",
            "\u001b[2m\u001b[36m(ClientAppActor pid=2192)\u001b[0m /usr/local/lib/python3.10/dist-packages/sklearn/metrics/_classification.py:1344: UndefinedMetricWarning: Precision and F-score are ill-defined and being set to 0.0 in labels with no predicted samples. Use `zero_division` parameter to control this behavior.\n",
            "\u001b[2m\u001b[36m(ClientAppActor pid=2192)\u001b[0m   _warn_prf(average, modifier, msg_start, len(result))\n",
            "\u001b[2m\u001b[36m(ClientAppActor pid=2192)\u001b[0m /usr/local/lib/python3.10/dist-packages/sklearn/metrics/_classification.py:1344: UndefinedMetricWarning: Precision and F-score are ill-defined and being set to 0.0 in labels with no predicted samples. Use `zero_division` parameter to control this behavior.\n",
            "\u001b[2m\u001b[36m(ClientAppActor pid=2192)\u001b[0m   _warn_prf(average, modifier, msg_start, len(result))\n",
            "\u001b[2m\u001b[36m(ClientAppActor pid=2192)\u001b[0m /usr/local/lib/python3.10/dist-packages/backpack/extensions/backprop_extension.py:106: UserWarning: Extension saving to batch_l2 does not have an extension for Module <class '__main__.Net'> although the module has parameters\n",
            "\u001b[2m\u001b[36m(ClientAppActor pid=2192)\u001b[0m   warnings.warn(\n",
            "\u001b[2m\u001b[36m(ClientAppActor pid=2192)\u001b[0m /usr/local/lib/python3.10/dist-packages/backpack/extensions/backprop_extension.py:106: UserWarning: Extension saving to grad_batch does not have an extension for Module <class '__main__.Net'> although the module has parameters\n",
            "\u001b[2m\u001b[36m(ClientAppActor pid=2192)\u001b[0m   warnings.warn(\n",
            "\u001b[2m\u001b[36m(ClientAppActor pid=2193)\u001b[0m /usr/local/lib/python3.10/dist-packages/backpack/extensions/backprop_extension.py:106: UserWarning: Extension saving to batch_l2 does not have an extension for Module <class '__main__.Net'> although the module has parameters\n",
            "\u001b[2m\u001b[36m(ClientAppActor pid=2193)\u001b[0m   warnings.warn(\u001b[32m [repeated 2x across cluster]\u001b[0m\n",
            "\u001b[2m\u001b[36m(ClientAppActor pid=2193)\u001b[0m /usr/local/lib/python3.10/dist-packages/backpack/extensions/backprop_extension.py:106: UserWarning: Extension saving to grad_batch does not have an extension for Module <class '__main__.Net'> although the module has parameters\n",
            "\u001b[92mINFO \u001b[0m:      aggregate_fit: received 10 results and 0 failures\n",
            "INFO:flwr:aggregate_fit: received 10 results and 0 failures\n",
            "\u001b[92mINFO \u001b[0m:      configure_evaluate: strategy sampled 5 clients (out of 50)\n",
            "INFO:flwr:configure_evaluate: strategy sampled 5 clients (out of 50)\n",
            "\u001b[92mINFO \u001b[0m:      aggregate_evaluate: received 5 results and 0 failures\n",
            "INFO:flwr:aggregate_evaluate: received 5 results and 0 failures\n",
            "\u001b[92mINFO \u001b[0m:      \n",
            "INFO:flwr:\n",
            "\u001b[92mINFO \u001b[0m:      [ROUND 5]\n",
            "INFO:flwr:[ROUND 5]\n",
            "\u001b[92mINFO \u001b[0m:      configure_fit: strategy sampled 10 clients (out of 50)\n",
            "INFO:flwr:configure_fit: strategy sampled 10 clients (out of 50)\n",
            "\u001b[2m\u001b[36m(ClientAppActor pid=2193)\u001b[0m /usr/local/lib/python3.10/dist-packages/backpack/extensions/backprop_extension.py:106: UserWarning: Extension saving to batch_l2 does not have an extension for Module <class '__main__.Net'> although the module has parameters\n",
            "\u001b[2m\u001b[36m(ClientAppActor pid=2193)\u001b[0m /usr/local/lib/python3.10/dist-packages/backpack/extensions/backprop_extension.py:106: UserWarning: Extension saving to grad_batch does not have an extension for Module <class '__main__.Net'> although the module has parameters\n",
            "\u001b[2m\u001b[36m(ClientAppActor pid=2193)\u001b[0m   warnings.warn(\u001b[32m [repeated 2x across cluster]\u001b[0m\n",
            "\u001b[2m\u001b[36m(ClientAppActor pid=2192)\u001b[0m /usr/local/lib/python3.10/dist-packages/backpack/extensions/backprop_extension.py:106: UserWarning: Extension saving to batch_l2 does not have an extension for Module <class '__main__.Net'> although the module has parameters\n",
            "\u001b[2m\u001b[36m(ClientAppActor pid=2192)\u001b[0m /usr/local/lib/python3.10/dist-packages/backpack/extensions/backprop_extension.py:106: UserWarning: Extension saving to grad_batch does not have an extension for Module <class '__main__.Net'> although the module has parameters\n",
            "\u001b[2m\u001b[36m(ClientAppActor pid=2192)\u001b[0m   warnings.warn(\u001b[32m [repeated 2x across cluster]\u001b[0m\n",
            "\u001b[92mINFO \u001b[0m:      aggregate_fit: received 10 results and 0 failures\n",
            "INFO:flwr:aggregate_fit: received 10 results and 0 failures\n",
            "\u001b[92mINFO \u001b[0m:      configure_evaluate: strategy sampled 5 clients (out of 50)\n",
            "INFO:flwr:configure_evaluate: strategy sampled 5 clients (out of 50)\n",
            "\u001b[92mINFO \u001b[0m:      aggregate_evaluate: received 5 results and 0 failures\n",
            "INFO:flwr:aggregate_evaluate: received 5 results and 0 failures\n",
            "\u001b[92mINFO \u001b[0m:      \n",
            "INFO:flwr:\n",
            "\u001b[92mINFO \u001b[0m:      [ROUND 6]\n",
            "INFO:flwr:[ROUND 6]\n",
            "\u001b[92mINFO \u001b[0m:      configure_fit: strategy sampled 10 clients (out of 50)\n",
            "INFO:flwr:configure_fit: strategy sampled 10 clients (out of 50)\n",
            "\u001b[2m\u001b[36m(ClientAppActor pid=2192)\u001b[0m /usr/local/lib/python3.10/dist-packages/backpack/extensions/backprop_extension.py:106: UserWarning: Extension saving to batch_l2 does not have an extension for Module <class '__main__.Net'> although the module has parameters\n",
            "\u001b[2m\u001b[36m(ClientAppActor pid=2192)\u001b[0m /usr/local/lib/python3.10/dist-packages/backpack/extensions/backprop_extension.py:106: UserWarning: Extension saving to grad_batch does not have an extension for Module <class '__main__.Net'> although the module has parameters\n",
            "\u001b[2m\u001b[36m(ClientAppActor pid=2192)\u001b[0m   warnings.warn(\u001b[32m [repeated 2x across cluster]\u001b[0m\n",
            "\u001b[2m\u001b[36m(ClientAppActor pid=2193)\u001b[0m /usr/local/lib/python3.10/dist-packages/backpack/extensions/backprop_extension.py:106: UserWarning: Extension saving to batch_l2 does not have an extension for Module <class '__main__.Net'> although the module has parameters\n",
            "\u001b[2m\u001b[36m(ClientAppActor pid=2193)\u001b[0m /usr/local/lib/python3.10/dist-packages/backpack/extensions/backprop_extension.py:106: UserWarning: Extension saving to grad_batch does not have an extension for Module <class '__main__.Net'> although the module has parameters\n",
            "\u001b[2m\u001b[36m(ClientAppActor pid=2193)\u001b[0m   warnings.warn(\u001b[32m [repeated 2x across cluster]\u001b[0m\n",
            "\u001b[92mINFO \u001b[0m:      aggregate_fit: received 10 results and 0 failures\n",
            "INFO:flwr:aggregate_fit: received 10 results and 0 failures\n",
            "\u001b[92mINFO \u001b[0m:      configure_evaluate: strategy sampled 5 clients (out of 50)\n",
            "INFO:flwr:configure_evaluate: strategy sampled 5 clients (out of 50)\n",
            "\u001b[92mINFO \u001b[0m:      aggregate_evaluate: received 5 results and 0 failures\n",
            "INFO:flwr:aggregate_evaluate: received 5 results and 0 failures\n",
            "\u001b[92mINFO \u001b[0m:      \n",
            "INFO:flwr:\n",
            "\u001b[92mINFO \u001b[0m:      [ROUND 7]\n",
            "INFO:flwr:[ROUND 7]\n",
            "\u001b[92mINFO \u001b[0m:      configure_fit: strategy sampled 10 clients (out of 50)\n",
            "INFO:flwr:configure_fit: strategy sampled 10 clients (out of 50)\n",
            "\u001b[2m\u001b[36m(ClientAppActor pid=2193)\u001b[0m /usr/local/lib/python3.10/dist-packages/sklearn/metrics/_classification.py:1344: UndefinedMetricWarning: Precision and F-score are ill-defined and being set to 0.0 in labels with no predicted samples. Use `zero_division` parameter to control this behavior.\n",
            "\u001b[2m\u001b[36m(ClientAppActor pid=2193)\u001b[0m   _warn_prf(average, modifier, msg_start, len(result))\n",
            "\u001b[2m\u001b[36m(ClientAppActor pid=2193)\u001b[0m /usr/local/lib/python3.10/dist-packages/sklearn/metrics/_classification.py:1344: UndefinedMetricWarning: Precision and F-score are ill-defined and being set to 0.0 in labels with no predicted samples. Use `zero_division` parameter to control this behavior.\n",
            "\u001b[2m\u001b[36m(ClientAppActor pid=2193)\u001b[0m   _warn_prf(average, modifier, msg_start, len(result))\n",
            "\u001b[2m\u001b[36m(ClientAppActor pid=2193)\u001b[0m /usr/local/lib/python3.10/dist-packages/sklearn/metrics/_classification.py:1344: UndefinedMetricWarning: Precision and F-score are ill-defined and being set to 0.0 in labels with no predicted samples. Use `zero_division` parameter to control this behavior.\n",
            "\u001b[2m\u001b[36m(ClientAppActor pid=2193)\u001b[0m   _warn_prf(average, modifier, msg_start, len(result))\n",
            "\u001b[2m\u001b[36m(ClientAppActor pid=2193)\u001b[0m /usr/local/lib/python3.10/dist-packages/backpack/extensions/backprop_extension.py:106: UserWarning: Extension saving to batch_l2 does not have an extension for Module <class '__main__.Net'> although the module has parameters\n",
            "\u001b[2m\u001b[36m(ClientAppActor pid=2193)\u001b[0m   warnings.warn(\n",
            "\u001b[2m\u001b[36m(ClientAppActor pid=2193)\u001b[0m /usr/local/lib/python3.10/dist-packages/backpack/extensions/backprop_extension.py:106: UserWarning: Extension saving to grad_batch does not have an extension for Module <class '__main__.Net'> although the module has parameters\n",
            "\u001b[2m\u001b[36m(ClientAppActor pid=2193)\u001b[0m   warnings.warn(\n",
            "\u001b[2m\u001b[36m(ClientAppActor pid=2192)\u001b[0m /usr/local/lib/python3.10/dist-packages/backpack/extensions/backprop_extension.py:106: UserWarning: Extension saving to batch_l2 does not have an extension for Module <class '__main__.Net'> although the module has parameters\n",
            "\u001b[2m\u001b[36m(ClientAppActor pid=2192)\u001b[0m   warnings.warn(\u001b[32m [repeated 2x across cluster]\u001b[0m\n",
            "\u001b[2m\u001b[36m(ClientAppActor pid=2192)\u001b[0m /usr/local/lib/python3.10/dist-packages/backpack/extensions/backprop_extension.py:106: UserWarning: Extension saving to grad_batch does not have an extension for Module <class '__main__.Net'> although the module has parameters\n",
            "\u001b[92mINFO \u001b[0m:      aggregate_fit: received 10 results and 0 failures\n",
            "INFO:flwr:aggregate_fit: received 10 results and 0 failures\n",
            "\u001b[92mINFO \u001b[0m:      configure_evaluate: strategy sampled 5 clients (out of 50)\n",
            "INFO:flwr:configure_evaluate: strategy sampled 5 clients (out of 50)\n",
            "\u001b[92mINFO \u001b[0m:      aggregate_evaluate: received 5 results and 0 failures\n",
            "INFO:flwr:aggregate_evaluate: received 5 results and 0 failures\n",
            "\u001b[92mINFO \u001b[0m:      \n",
            "INFO:flwr:\n",
            "\u001b[92mINFO \u001b[0m:      [ROUND 8]\n",
            "INFO:flwr:[ROUND 8]\n",
            "\u001b[92mINFO \u001b[0m:      configure_fit: strategy sampled 10 clients (out of 50)\n",
            "INFO:flwr:configure_fit: strategy sampled 10 clients (out of 50)\n",
            "\u001b[2m\u001b[36m(ClientAppActor pid=2192)\u001b[0m /usr/local/lib/python3.10/dist-packages/backpack/extensions/backprop_extension.py:106: UserWarning: Extension saving to batch_l2 does not have an extension for Module <class '__main__.Net'> although the module has parameters\n",
            "\u001b[2m\u001b[36m(ClientAppActor pid=2192)\u001b[0m /usr/local/lib/python3.10/dist-packages/backpack/extensions/backprop_extension.py:106: UserWarning: Extension saving to grad_batch does not have an extension for Module <class '__main__.Net'> although the module has parameters\n",
            "\u001b[2m\u001b[36m(ClientAppActor pid=2192)\u001b[0m   warnings.warn(\u001b[32m [repeated 2x across cluster]\u001b[0m\n",
            "\u001b[2m\u001b[36m(ClientAppActor pid=2193)\u001b[0m /usr/local/lib/python3.10/dist-packages/backpack/extensions/backprop_extension.py:106: UserWarning: Extension saving to batch_l2 does not have an extension for Module <class '__main__.Net'> although the module has parameters\n",
            "\u001b[2m\u001b[36m(ClientAppActor pid=2193)\u001b[0m /usr/local/lib/python3.10/dist-packages/backpack/extensions/backprop_extension.py:106: UserWarning: Extension saving to grad_batch does not have an extension for Module <class '__main__.Net'> although the module has parameters\n",
            "\u001b[2m\u001b[36m(ClientAppActor pid=2193)\u001b[0m   warnings.warn(\u001b[32m [repeated 2x across cluster]\u001b[0m\n",
            "\u001b[92mINFO \u001b[0m:      aggregate_fit: received 10 results and 0 failures\n",
            "INFO:flwr:aggregate_fit: received 10 results and 0 failures\n",
            "\u001b[92mINFO \u001b[0m:      configure_evaluate: strategy sampled 5 clients (out of 50)\n",
            "INFO:flwr:configure_evaluate: strategy sampled 5 clients (out of 50)\n",
            "\u001b[92mINFO \u001b[0m:      aggregate_evaluate: received 5 results and 0 failures\n",
            "INFO:flwr:aggregate_evaluate: received 5 results and 0 failures\n",
            "\u001b[92mINFO \u001b[0m:      \n",
            "INFO:flwr:\n",
            "\u001b[92mINFO \u001b[0m:      [ROUND 9]\n",
            "INFO:flwr:[ROUND 9]\n",
            "\u001b[92mINFO \u001b[0m:      configure_fit: strategy sampled 10 clients (out of 50)\n",
            "INFO:flwr:configure_fit: strategy sampled 10 clients (out of 50)\n",
            "\u001b[2m\u001b[36m(ClientAppActor pid=2193)\u001b[0m /usr/local/lib/python3.10/dist-packages/backpack/extensions/backprop_extension.py:106: UserWarning: Extension saving to batch_l2 does not have an extension for Module <class '__main__.Net'> although the module has parameters\n",
            "\u001b[2m\u001b[36m(ClientAppActor pid=2193)\u001b[0m /usr/local/lib/python3.10/dist-packages/backpack/extensions/backprop_extension.py:106: UserWarning: Extension saving to grad_batch does not have an extension for Module <class '__main__.Net'> although the module has parameters\n",
            "\u001b[2m\u001b[36m(ClientAppActor pid=2193)\u001b[0m   warnings.warn(\u001b[32m [repeated 2x across cluster]\u001b[0m\n",
            "\u001b[2m\u001b[36m(ClientAppActor pid=2192)\u001b[0m /usr/local/lib/python3.10/dist-packages/backpack/extensions/backprop_extension.py:106: UserWarning: Extension saving to batch_l2 does not have an extension for Module <class '__main__.Net'> although the module has parameters\n",
            "\u001b[2m\u001b[36m(ClientAppActor pid=2192)\u001b[0m /usr/local/lib/python3.10/dist-packages/backpack/extensions/backprop_extension.py:106: UserWarning: Extension saving to grad_batch does not have an extension for Module <class '__main__.Net'> although the module has parameters\n",
            "\u001b[2m\u001b[36m(ClientAppActor pid=2192)\u001b[0m   warnings.warn(\u001b[32m [repeated 2x across cluster]\u001b[0m\n",
            "\u001b[92mINFO \u001b[0m:      aggregate_fit: received 10 results and 0 failures\n",
            "INFO:flwr:aggregate_fit: received 10 results and 0 failures\n",
            "\u001b[92mINFO \u001b[0m:      configure_evaluate: strategy sampled 5 clients (out of 50)\n",
            "INFO:flwr:configure_evaluate: strategy sampled 5 clients (out of 50)\n",
            "\u001b[92mINFO \u001b[0m:      aggregate_evaluate: received 5 results and 0 failures\n",
            "INFO:flwr:aggregate_evaluate: received 5 results and 0 failures\n",
            "\u001b[92mINFO \u001b[0m:      \n",
            "INFO:flwr:\n",
            "\u001b[92mINFO \u001b[0m:      [ROUND 10]\n",
            "INFO:flwr:[ROUND 10]\n",
            "\u001b[92mINFO \u001b[0m:      configure_fit: strategy sampled 10 clients (out of 50)\n",
            "INFO:flwr:configure_fit: strategy sampled 10 clients (out of 50)\n",
            "\u001b[2m\u001b[36m(ClientAppActor pid=2192)\u001b[0m /usr/local/lib/python3.10/dist-packages/backpack/extensions/backprop_extension.py:106: UserWarning: Extension saving to batch_l2 does not have an extension for Module <class '__main__.Net'> although the module has parameters\n",
            "\u001b[2m\u001b[36m(ClientAppActor pid=2192)\u001b[0m /usr/local/lib/python3.10/dist-packages/backpack/extensions/backprop_extension.py:106: UserWarning: Extension saving to grad_batch does not have an extension for Module <class '__main__.Net'> although the module has parameters\n",
            "\u001b[2m\u001b[36m(ClientAppActor pid=2192)\u001b[0m   warnings.warn(\u001b[32m [repeated 2x across cluster]\u001b[0m\n",
            "\u001b[2m\u001b[36m(ClientAppActor pid=2193)\u001b[0m /usr/local/lib/python3.10/dist-packages/backpack/extensions/backprop_extension.py:106: UserWarning: Extension saving to batch_l2 does not have an extension for Module <class '__main__.Net'> although the module has parameters\n",
            "\u001b[2m\u001b[36m(ClientAppActor pid=2193)\u001b[0m /usr/local/lib/python3.10/dist-packages/backpack/extensions/backprop_extension.py:106: UserWarning: Extension saving to grad_batch does not have an extension for Module <class '__main__.Net'> although the module has parameters\n",
            "\u001b[2m\u001b[36m(ClientAppActor pid=2193)\u001b[0m   warnings.warn(\u001b[32m [repeated 2x across cluster]\u001b[0m\n",
            "\u001b[92mINFO \u001b[0m:      aggregate_fit: received 10 results and 0 failures\n",
            "INFO:flwr:aggregate_fit: received 10 results and 0 failures\n",
            "\u001b[92mINFO \u001b[0m:      configure_evaluate: strategy sampled 5 clients (out of 50)\n",
            "INFO:flwr:configure_evaluate: strategy sampled 5 clients (out of 50)\n",
            "\u001b[92mINFO \u001b[0m:      aggregate_evaluate: received 5 results and 0 failures\n",
            "INFO:flwr:aggregate_evaluate: received 5 results and 0 failures\n",
            "\u001b[92mINFO \u001b[0m:      \n",
            "INFO:flwr:\n",
            "\u001b[92mINFO \u001b[0m:      [SUMMARY]\n",
            "INFO:flwr:[SUMMARY]\n",
            "\u001b[92mINFO \u001b[0m:      Run finished 10 rounds in 13448.44s\n",
            "INFO:flwr:Run finished 10 rounds in 13448.44s\n",
            "\u001b[92mINFO \u001b[0m:      History (loss, distributed):\n",
            "INFO:flwr:History (loss, distributed):\n",
            "\u001b[92mINFO \u001b[0m:      \t('\\tround 1: 0.05473388697537075\\n'\n",
            "INFO:flwr:\t('\\tround 1: 0.05473388697537075\\n'\n",
            "\u001b[92mINFO \u001b[0m:      \t '\\tround 2: 0.04382991777343654\\n'\n",
            "INFO:flwr:\t '\\tround 2: 0.04382991777343654\\n'\n",
            "\u001b[92mINFO \u001b[0m:      \t '\\tround 3: 0.03815559612794573\\n'\n",
            "INFO:flwr:\t '\\tround 3: 0.03815559612794573\\n'\n",
            "\u001b[92mINFO \u001b[0m:      \t '\\tround 4: 0.038460916139008254\\n'\n",
            "INFO:flwr:\t '\\tround 4: 0.038460916139008254\\n'\n",
            "\u001b[92mINFO \u001b[0m:      \t '\\tround 5: 0.028515726380115455\\n'\n",
            "INFO:flwr:\t '\\tround 5: 0.028515726380115455\\n'\n",
            "\u001b[92mINFO \u001b[0m:      \t '\\tround 6: 0.03357940465398366\\n'\n",
            "INFO:flwr:\t '\\tround 6: 0.03357940465398366\\n'\n",
            "\u001b[92mINFO \u001b[0m:      \t '\\tround 7: 0.05355001097179026\\n'\n",
            "INFO:flwr:\t '\\tround 7: 0.05355001097179026\\n'\n",
            "\u001b[92mINFO \u001b[0m:      \t '\\tround 8: 0.026443588994769788\\n'\n",
            "INFO:flwr:\t '\\tround 8: 0.026443588994769788\\n'\n",
            "\u001b[92mINFO \u001b[0m:      \t '\\tround 9: 0.0278717209833286\\n'\n",
            "INFO:flwr:\t '\\tround 9: 0.0278717209833286\\n'\n",
            "\u001b[92mINFO \u001b[0m:      \t '\\tround 10: 0.025901481598727547\\n')History (metrics, distributed, evaluate):\n",
            "INFO:flwr:\t '\\tround 10: 0.025901481598727547\\n')History (metrics, distributed, evaluate):\n",
            "\u001b[92mINFO \u001b[0m:      \t{'accuracy': [(1, 0.2811013767209011),\n",
            "INFO:flwr:\t{'accuracy': [(1, 0.2811013767209011),\n",
            "\u001b[92mINFO \u001b[0m:      \t              (2, 0.42352941176470593),\n",
            "INFO:flwr:\t              (2, 0.42352941176470593),\n",
            "\u001b[92mINFO \u001b[0m:      \t              (3, 0.5033792240300375),\n",
            "INFO:flwr:\t              (3, 0.5033792240300375),\n",
            "\u001b[92mINFO \u001b[0m:      \t              (4, 0.5757196495619524),\n",
            "INFO:flwr:\t              (4, 0.5757196495619524),\n",
            "\u001b[92mINFO \u001b[0m:      \t              (5, 0.7121401752190238),\n",
            "INFO:flwr:\t              (5, 0.7121401752190238),\n",
            "\u001b[92mINFO \u001b[0m:      \t              (6, 0.6382978723404256),\n",
            "INFO:flwr:\t              (6, 0.6382978723404256),\n",
            "\u001b[92mINFO \u001b[0m:      \t              (7, 0.6212765957446807),\n",
            "INFO:flwr:\t              (7, 0.6212765957446807),\n",
            "\u001b[92mINFO \u001b[0m:      \t              (8, 0.7441802252816019),\n",
            "INFO:flwr:\t              (8, 0.7441802252816019),\n",
            "\u001b[92mINFO \u001b[0m:      \t              (9, 0.7274092615769712),\n",
            "INFO:flwr:\t              (9, 0.7274092615769712),\n",
            "\u001b[92mINFO \u001b[0m:      \t              (10, 0.7614518147684605)]}\n",
            "INFO:flwr:\t              (10, 0.7614518147684605)]}\n",
            "\u001b[92mINFO \u001b[0m:      \n",
            "INFO:flwr:\n"
          ]
        },
        {
          "output_type": "execute_result",
          "data": {
            "text/plain": [
              "History (loss, distributed):\n",
              "('\\tround 1: 0.05473388697537075\\n'\n",
              " '\\tround 2: 0.04382991777343654\\n'\n",
              " '\\tround 3: 0.03815559612794573\\n'\n",
              " '\\tround 4: 0.038460916139008254\\n'\n",
              " '\\tround 5: 0.028515726380115455\\n'\n",
              " '\\tround 6: 0.03357940465398366\\n'\n",
              " '\\tround 7: 0.05355001097179026\\n'\n",
              " '\\tround 8: 0.026443588994769788\\n'\n",
              " '\\tround 9: 0.0278717209833286\\n'\n",
              " '\\tround 10: 0.025901481598727547\\n')History (metrics, distributed, evaluate):\n",
              "{'accuracy': [(1, 0.2811013767209011),\n",
              "              (2, 0.42352941176470593),\n",
              "              (3, 0.5033792240300375),\n",
              "              (4, 0.5757196495619524),\n",
              "              (5, 0.7121401752190238),\n",
              "              (6, 0.6382978723404256),\n",
              "              (7, 0.6212765957446807),\n",
              "              (8, 0.7441802252816019),\n",
              "              (9, 0.7274092615769712),\n",
              "              (10, 0.7614518147684605)]}"
            ]
          },
          "metadata": {},
          "execution_count": 20
        }
      ],
      "source": [
        "# Create FedAvg strategy\n",
        "strategy = FedAvg(\n",
        "    fraction_fit=0.1,  # FL - Minimum fraction of training DAs\n",
        "    fraction_evaluate=0.1,  # FL - Minimum fraction of assessment DAs\n",
        "    min_fit_clients=10,  # FL - Minimum training DAs\n",
        "    min_evaluate_clients=5,  # FL - Minimum available DAs\n",
        "    min_available_clients=50,  # FL - Minimum available DAs\n",
        "    evaluate_metrics_aggregation_fn=weighted_average,  # Metric aggregation function\n",
        ")\n",
        "\n",
        "# Specify the resources each of your clients need. By default, each\n",
        "# client will be allocated 1x CPU and 0x GPUs\n",
        "client_resources = {\"num_cpus\": 1, \"num_gpus\": 0.0}\n",
        "if DEVICE.type == \"cuda\":\n",
        "    # here we are assigning an entire GPU for each client.\n",
        "    client_resources = {\"num_cpus\": 1, \"num_gpus\": 1.0}\n",
        "    # Refer to our documentation for more details about Flower Simulations\n",
        "    # and how to setup these `client_resources`.\n",
        "\n",
        "# Start simulation\n",
        "fl.simulation.start_simulation(\n",
        "    client_fn=client_fn,\n",
        "    num_clients=NUM_CLIENTS,\n",
        "    config=fl.server.ServerConfig(num_rounds=10),\n",
        "    strategy=strategy,\n",
        "    client_resources=client_resources,\n",
        ")"
      ]
    }
  ],
  "metadata": {
    "colab": {
      "provenance": []
    },
    "kernelspec": {
      "display_name": "Python 3",
      "name": "python3"
    },
    "language_info": {
      "name": "python"
    }
  },
  "nbformat": 4,
  "nbformat_minor": 0
}